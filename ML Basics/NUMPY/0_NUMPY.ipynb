{
  "nbformat": 4,
  "nbformat_minor": 0,
  "metadata": {
    "colab": {
      "name": "0_NUMPY.ipynb",
      "provenance": [],
      "collapsed_sections": []
    },
    "kernelspec": {
      "name": "python3",
      "display_name": "Python 3"
    },
    "language_info": {
      "name": "python"
    }
  },
  "cells": [
    {
      "cell_type": "markdown",
      "metadata": {
        "id": "iCXjOxwUXyE6"
      },
      "source": [
        "# **NUMPY**"
      ]
    },
    {
      "cell_type": "markdown",
      "metadata": {
        "id": "LbIzcvhzX4IB"
      },
      "source": [
        "**Why Numpy is better than list**\n",
        "\n",
        "\n",
        "1.   Numpy provides efficient storage\n",
        "2.   Provides better ways of handling data for preprocessing\n",
        "3.   It is fast\n",
        "4.   Uses relatively less memory to store data\n",
        "5.   Numpy uses contiguous memory while lists don't\n",
        "6.   No type checking while looping in numpy\n",
        "\n",
        "*Helps to increase speed by vectorization,also this array is homogenous*\n",
        "\n"
      ]
    },
    {
      "cell_type": "markdown",
      "metadata": {
        "id": "FbhIdmalDxJn"
      },
      "source": [
        "a=[1,2,3]  , b=[1,4,2] ,  a*b =ERROR (gives error)\n",
        "\n",
        "a=np.array([1,2,3])      , b=np.array([1,4,2])     , a*b=np.array([1,8,6])"
      ]
    },
    {
      "cell_type": "code",
      "metadata": {
        "id": "a1oKbsSNk8N9"
      },
      "source": [
        "import numpy as np"
      ],
      "execution_count": null,
      "outputs": []
    },
    {
      "cell_type": "code",
      "metadata": {
        "colab": {
          "base_uri": "https://localhost:8080/"
        },
        "id": "VTTaoDTFYnl8",
        "outputId": "118d64c5-1b28-4c4f-cdec-021c5b525033"
      },
      "source": [
        "#create np array\n",
        "myarr=np.array([3,4,37,7])\n",
        "print(myarr) \n",
        "print(\"data type of values is : \", myarr.dtype)      #print data type of values\n",
        "print(\"size of array is :\",myarr.size)               #print count of elements\n",
        "print(\"shape of array is :\" ,myarr.shape)            #print shape of arrray\n",
        "print(\"Dimension of array is :\",myarr.ndim)          #print dimesnsion of array"
      ],
      "execution_count": null,
      "outputs": [
        {
          "output_type": "stream",
          "text": [
            "[ 3  4 37  7]\n",
            "data type of values is :  int64\n",
            "size of array is : 4\n",
            "shape of array is : (4,)\n",
            "Dimension of array is : 1\n"
          ],
          "name": "stdout"
        }
      ]
    },
    {
      "cell_type": "code",
      "metadata": {
        "colab": {
          "base_uri": "https://localhost:8080/"
        },
        "id": "njf1L1EcZkUh",
        "outputId": "f13937ee-fe8e-44b2-a131-86df719ce409"
      },
      "source": [
        "#This array is homogenous but list is heterogenous \n",
        "#so hetrogeneous list to array\n",
        "p=[1,2,4,5,2,5,\"pal\"]\n",
        "np_p=np.array(p)        #All will get converted to string\n",
        "print(np_p) \n",
        "print(np_p.dtype)  \n",
        "print(np_p.nbytes)      #total size of np array"
      ],
      "execution_count": null,
      "outputs": [
        {
          "output_type": "stream",
          "text": [
            "['1' '2' '4' '5' '2' '5' 'pal']\n",
            "<U21\n",
            "588\n"
          ],
          "name": "stdout"
        }
      ]
    },
    {
      "cell_type": "code",
      "metadata": {
        "colab": {
          "base_uri": "https://localhost:8080/"
        },
        "id": "4DHYks4WaEjp",
        "outputId": "67342538-365a-46b6-d8d4-609451786212"
      },
      "source": [
        "#can even assign dtype\n",
        "np_t=np.array([1,2,3,4],np.float32)\n",
        "np_t"
      ],
      "execution_count": null,
      "outputs": [
        {
          "output_type": "execute_result",
          "data": {
            "text/plain": [
              "array([1., 2., 3., 4.], dtype=float32)"
            ]
          },
          "metadata": {
            "tags": []
          },
          "execution_count": 4
        }
      ]
    },
    {
      "cell_type": "markdown",
      "metadata": {
        "id": "9QFRH6OyadaM"
      },
      "source": [
        "## **Other methods to make np array**"
      ]
    },
    {
      "cell_type": "code",
      "metadata": {
        "colab": {
          "base_uri": "https://localhost:8080/"
        },
        "id": "n1kd8hArabpB",
        "outputId": "e9572d8b-e619-482f-9c2f-daa70a8bef0a"
      },
      "source": [
        "a=np.zeros((3,3))\n",
        "a"
      ],
      "execution_count": null,
      "outputs": [
        {
          "output_type": "execute_result",
          "data": {
            "text/plain": [
              "array([[0., 0., 0.],\n",
              "       [0., 0., 0.],\n",
              "       [0., 0., 0.]])"
            ]
          },
          "metadata": {
            "tags": []
          },
          "execution_count": 5
        }
      ]
    },
    {
      "cell_type": "code",
      "metadata": {
        "colab": {
          "base_uri": "https://localhost:8080/"
        },
        "id": "C9WMjmzhfLFr",
        "outputId": "b7e9a584-2403-4a76-8ded-07de29f2b87e"
      },
      "source": [
        "a2=np.ones((3,3))\n",
        "a2"
      ],
      "execution_count": null,
      "outputs": [
        {
          "output_type": "execute_result",
          "data": {
            "text/plain": [
              "array([[1., 1., 1.],\n",
              "       [1., 1., 1.],\n",
              "       [1., 1., 1.]])"
            ]
          },
          "metadata": {
            "tags": []
          },
          "execution_count": 6
        }
      ]
    },
    {
      "cell_type": "code",
      "metadata": {
        "colab": {
          "base_uri": "https://localhost:8080/"
        },
        "id": "4g_DufRwfWO7",
        "outputId": "dab19b0f-427f-4095-cd04-cdf9053b6047"
      },
      "source": [
        "#for random values\n",
        "a3=np.random.random((3,4))\n",
        "a3"
      ],
      "execution_count": null,
      "outputs": [
        {
          "output_type": "execute_result",
          "data": {
            "text/plain": [
              "array([[0.60791597, 0.83531929, 0.29252787, 0.7314454 ],\n",
              "       [0.70049141, 0.69210195, 0.91767332, 0.01128485],\n",
              "       [0.24483708, 0.74961796, 0.50603566, 0.99685925]])"
            ]
          },
          "metadata": {
            "tags": []
          },
          "execution_count": 7
        }
      ]
    },
    {
      "cell_type": "code",
      "metadata": {
        "colab": {
          "base_uri": "https://localhost:8080/"
        },
        "id": "oe7iU-9DGjzQ",
        "outputId": "7007fb9b-fc7a-4ccd-c47f-1d41dc5dba94"
      },
      "source": [
        "#np array with random integers in range [2,7) also if 2 would not be given default 0 would have been taken\n",
        "np.random.randint(2,7,size=(3,3))"
      ],
      "execution_count": null,
      "outputs": [
        {
          "output_type": "execute_result",
          "data": {
            "text/plain": [
              "array([[5, 3, 5],\n",
              "       [5, 5, 4],\n",
              "       [2, 3, 5]])"
            ]
          },
          "metadata": {
            "tags": []
          },
          "execution_count": 8
        }
      ]
    },
    {
      "cell_type": "code",
      "metadata": {
        "colab": {
          "base_uri": "https://localhost:8080/"
        },
        "id": "_3AogtQefkIs",
        "outputId": "d57847b2-11e0-4a0b-c731-512cff32ef30"
      },
      "source": [
        "a4=np.full((3,3),24,dtype=\"int16\")        #all elements =24\n",
        "a4"
      ],
      "execution_count": null,
      "outputs": [
        {
          "output_type": "execute_result",
          "data": {
            "text/plain": [
              "array([[24, 24, 24],\n",
              "       [24, 24, 24],\n",
              "       [24, 24, 24]], dtype=int16)"
            ]
          },
          "metadata": {
            "tags": []
          },
          "execution_count": 9
        }
      ]
    },
    {
      "cell_type": "code",
      "metadata": {
        "colab": {
          "base_uri": "https://localhost:8080/"
        },
        "id": "90vFZR63fjPi",
        "outputId": "7dae01c6-4d4f-4fd9-9de3-648814e6155c"
      },
      "source": [
        "#array with values 0.....14\n",
        "a5=np.arange(15)\n",
        "a5"
      ],
      "execution_count": null,
      "outputs": [
        {
          "output_type": "execute_result",
          "data": {
            "text/plain": [
              "array([ 0,  1,  2,  3,  4,  5,  6,  7,  8,  9, 10, 11, 12, 13, 14])"
            ]
          },
          "metadata": {
            "tags": []
          },
          "execution_count": 10
        }
      ]
    },
    {
      "cell_type": "code",
      "metadata": {
        "colab": {
          "base_uri": "https://localhost:8080/"
        },
        "id": "mB0wZYd2f4ER",
        "outputId": "76a3377b-3aed-4277-b063-8d779cd45242"
      },
      "source": [
        "#Array with n equally spaced values between a and b  -> np.linspace(a,b,n)\n",
        "a6=np.linspace(1,4,5)\n",
        "a6"
      ],
      "execution_count": null,
      "outputs": [
        {
          "output_type": "execute_result",
          "data": {
            "text/plain": [
              "array([1.  , 1.75, 2.5 , 3.25, 4.  ])"
            ]
          },
          "metadata": {
            "tags": []
          },
          "execution_count": 11
        }
      ]
    },
    {
      "cell_type": "code",
      "metadata": {
        "colab": {
          "base_uri": "https://localhost:8080/"
        },
        "id": "noQBONJ3H0U6",
        "outputId": "235bf910-c2e9-4848-9df1-6b6b1ad8c8a5"
      },
      "source": [
        "#Question :- Generate given array pattern\n",
        "a=np.ones((5,5),dtype=\"int\")\n",
        "a[1:-1,1:-1]=0\n",
        "a[a.shape[0]//2,a.shape[1]//2]=9\n",
        "print(a)"
      ],
      "execution_count": null,
      "outputs": [
        {
          "output_type": "stream",
          "text": [
            "[[1 1 1 1 1]\n",
            " [1 0 0 0 1]\n",
            " [1 0 9 0 1]\n",
            " [1 0 0 0 1]\n",
            " [1 1 1 1 1]]\n"
          ],
          "name": "stdout"
        }
      ]
    },
    {
      "cell_type": "markdown",
      "metadata": {
        "id": "uNR8He8OgXeg"
      },
      "source": [
        "## **Indexing**"
      ]
    },
    {
      "cell_type": "code",
      "metadata": {
        "colab": {
          "base_uri": "https://localhost:8080/"
        },
        "id": "fu2cmNI_gKGx",
        "outputId": "941f0d19-08fb-4551-bbf9-7b285a601c88"
      },
      "source": [
        "b=np.array([[1,2,3],[4,5,6],[7,8,9]])\n",
        "\n",
        "print(b[0])\n",
        "print(b[0,0] , b[0][0])       #Two ways to handle 2D array   \n",
        "print(b[-1,-1])               #negative based indexing"
      ],
      "execution_count": null,
      "outputs": [
        {
          "output_type": "stream",
          "text": [
            "[1 2 3]\n",
            "1 1\n",
            "9\n"
          ],
          "name": "stdout"
        }
      ]
    },
    {
      "cell_type": "code",
      "metadata": {
        "colab": {
          "base_uri": "https://localhost:8080/"
        },
        "id": "dNkpnuNBg8FA",
        "outputId": "4a28e4d9-f8e3-47b7-eb22-da94ecb74eff"
      },
      "source": [
        "print(b[1,:])                 #return second row    "
      ],
      "execution_count": null,
      "outputs": [
        {
          "output_type": "stream",
          "text": [
            "[4 5 6]\n"
          ],
          "name": "stdout"
        }
      ]
    },
    {
      "cell_type": "code",
      "metadata": {
        "colab": {
          "base_uri": "https://localhost:8080/"
        },
        "id": "Lh0JYrYLhXcx",
        "outputId": "31daaada-f572-4fad-9dea-f8d0d078a869"
      },
      "source": [
        "print(b)\n",
        "\n",
        "print(\"\\n second column\")\n",
        "print(b[:,1])                 #return second column\n",
        "\n",
        "print(\"\\n first and 3rd columns\")\n",
        "print(b[:,0:3:2])         #0->start col  3->end col(not included)   2->step size(jump)"
      ],
      "execution_count": null,
      "outputs": [
        {
          "output_type": "stream",
          "text": [
            "[[1 2 3]\n",
            " [4 5 6]\n",
            " [7 8 9]]\n",
            "\n",
            " second column\n",
            "[2 5 8]\n",
            "\n",
            " first and 3rd columns\n",
            "[[1 3]\n",
            " [4 6]\n",
            " [7 9]]\n"
          ],
          "name": "stdout"
        }
      ]
    },
    {
      "cell_type": "markdown",
      "metadata": {
        "id": "_7ufQcQAJVlz"
      },
      "source": [
        "##**Be Careful while copying array**"
      ]
    },
    {
      "cell_type": "code",
      "metadata": {
        "colab": {
          "base_uri": "https://localhost:8080/"
        },
        "id": "9LtVWXNrJb29",
        "outputId": "94119b82-2893-498c-9196-ced22d455614"
      },
      "source": [
        "#if b=a so this means that b points where a points, so changes in b will be displayed on a\n",
        "a=np.array([1,2,3])\n",
        "b=a\n",
        "b[0]=100\n",
        "print(a)#changes will be shown here also"
      ],
      "execution_count": null,
      "outputs": [
        {
          "output_type": "stream",
          "text": [
            "[100   2   3]\n"
          ],
          "name": "stdout"
        }
      ]
    },
    {
      "cell_type": "code",
      "metadata": {
        "colab": {
          "base_uri": "https://localhost:8080/"
        },
        "id": "SdRrZnbyJyAq",
        "outputId": "c10d96dd-a962-4842-b2b9-f9b16f6288e7"
      },
      "source": [
        "#better way is\n",
        "a=np.array([1,2,3])\n",
        "b=a.copy()\n",
        "b[0]=100\n",
        "print(a)#no change occurs here"
      ],
      "execution_count": null,
      "outputs": [
        {
          "output_type": "stream",
          "text": [
            "[1 2 3]\n"
          ],
          "name": "stdout"
        }
      ]
    },
    {
      "cell_type": "markdown",
      "metadata": {
        "id": "54eea8TUiWnq"
      },
      "source": [
        "## **Reshaping**"
      ]
    },
    {
      "cell_type": "code",
      "metadata": {
        "colab": {
          "base_uri": "https://localhost:8080/"
        },
        "id": "H7kWKUBGhxM8",
        "outputId": "17154d8e-e5c5-481f-d4b1-bfcb5761a344"
      },
      "source": [
        "a=np.array([1,2,3,4,5,6,7,8,9])\n",
        "a2=np.reshape(a,(3,3))\n",
        "a2"
      ],
      "execution_count": null,
      "outputs": [
        {
          "output_type": "execute_result",
          "data": {
            "text/plain": [
              "array([[1, 2, 3],\n",
              "       [4, 5, 6],\n",
              "       [7, 8, 9]])"
            ]
          },
          "metadata": {
            "tags": []
          },
          "execution_count": 18
        }
      ]
    },
    {
      "cell_type": "code",
      "metadata": {
        "colab": {
          "base_uri": "https://localhost:8080/"
        },
        "id": "XERN3bh8i1sf",
        "outputId": "8fc61b38-6c59-439a-d5be-29aa571f66c4"
      },
      "source": [
        "a3=np.reshape(a2,(1,3,3))\n",
        "a3"
      ],
      "execution_count": null,
      "outputs": [
        {
          "output_type": "execute_result",
          "data": {
            "text/plain": [
              "array([[[1, 2, 3],\n",
              "        [4, 5, 6],\n",
              "        [7, 8, 9]]])"
            ]
          },
          "metadata": {
            "tags": []
          },
          "execution_count": 19
        }
      ]
    },
    {
      "cell_type": "code",
      "metadata": {
        "colab": {
          "base_uri": "https://localhost:8080/"
        },
        "id": "4C74cXGDNBin",
        "outputId": "8c810347-aa53-4f05-975d-e61465cde34d"
      },
      "source": [
        "#vertical , horizontal stacking two arrays\n",
        "p=np.array([1,2,4])\n",
        "q=np.array([4,5,6])\n",
        "print(np.vstack((p,q)))\n",
        "print(np.hstack((q,p)))"
      ],
      "execution_count": null,
      "outputs": [
        {
          "output_type": "stream",
          "text": [
            "[[1 2 4]\n",
            " [4 5 6]]\n",
            "[4 5 6 1 2 4]\n"
          ],
          "name": "stdout"
        }
      ]
    },
    {
      "cell_type": "markdown",
      "metadata": {
        "id": "rP98_EvEjVG8"
      },
      "source": [
        "## **Appending and changing data**"
      ]
    },
    {
      "cell_type": "code",
      "metadata": {
        "colab": {
          "base_uri": "https://localhost:8080/"
        },
        "id": "Ibp2EKQgjgWw",
        "outputId": "6e8bf70a-8b7e-4b57-f780-866de8d1ee54"
      },
      "source": [
        "b=np.array([[1,2,3],[4,3,1],[1,2,4]])\n",
        "\n",
        "b[1,2]=22\n",
        "print(b)       #after changes"
      ],
      "execution_count": null,
      "outputs": [
        {
          "output_type": "stream",
          "text": [
            "[[ 1  2  3]\n",
            " [ 4  3 22]\n",
            " [ 1  2  4]]\n"
          ],
          "name": "stdout"
        }
      ]
    },
    {
      "cell_type": "markdown",
      "metadata": {
        "id": "aAVAEqPxjvJX"
      },
      "source": [
        "In np 1D array only one axis ->axis 0, so data appends in one way only.\n",
        "\n",
        "\n",
        "In 2D array rows->axis 0 and columns->axis 1\n",
        "\n",
        "so to append as row -> append as axis 0\n",
        "\n",
        "to append as columns ->append as axis 1"
      ]
    },
    {
      "cell_type": "code",
      "metadata": {
        "colab": {
          "base_uri": "https://localhost:8080/"
        },
        "id": "NGi4TV3ljpeE",
        "outputId": "ee9cecfa-7bf6-4def-d69e-814eb9cad5e9"
      },
      "source": [
        "#APPENDING\n",
        "print(b)\n",
        "\n",
        "temp=np.array([10,11,12])\n",
        "\n",
        "print(\"\\n Row sum\")\n",
        "row_sum=np.append(b,temp.reshape(1,3),axis=0)     #for appending dimension of both arrays be same\n",
        "print(row_sum)\n",
        "\n",
        "print(\"\\n Column sum\")\n",
        "col_sum=np.append(b,temp.reshape(3,1),axis=1)     #for appending dimension of both arrays be same\n",
        "print(col_sum)\n"
      ],
      "execution_count": null,
      "outputs": [
        {
          "output_type": "stream",
          "text": [
            "[[ 1  2  3]\n",
            " [ 4  3 22]\n",
            " [ 1  2  4]]\n",
            "\n",
            " Row sum\n",
            "[[ 1  2  3]\n",
            " [ 4  3 22]\n",
            " [ 1  2  4]\n",
            " [10 11 12]]\n",
            "\n",
            " Column sum\n",
            "[[ 1  2  3 10]\n",
            " [ 4  3 22 11]\n",
            " [ 1  2  4 12]]\n"
          ],
          "name": "stdout"
        }
      ]
    },
    {
      "cell_type": "markdown",
      "metadata": {
        "id": "zlmLYrU9lZCa"
      },
      "source": [
        "# **MATHS**"
      ]
    },
    {
      "cell_type": "markdown",
      "metadata": {
        "id": "jxB8rLqgm5Pm"
      },
      "source": [
        "b.sum()  like functions are methods\n",
        "\n",
        "b.size,b.dtype are attributes"
      ]
    },
    {
      "cell_type": "code",
      "metadata": {
        "colab": {
          "base_uri": "https://localhost:8080/"
        },
        "id": "Mws6gof1KcDL",
        "outputId": "a0e2843d-52ad-4ebf-ce4d-8731df0aea55"
      },
      "source": [
        "#element wise maths\n",
        "a=np.array([1,2,3],dtype=\"int\")\n",
        "print(a+3)\n",
        "print(a*3)\n",
        "print(a/2)\n",
        "print(np.sin(a))    #take sin values of numbers"
      ],
      "execution_count": null,
      "outputs": [
        {
          "output_type": "stream",
          "text": [
            "[4 5 6]\n",
            "[3 6 9]\n",
            "[0.5 1.  1.5]\n",
            "[0.84147098 0.90929743 0.14112001]\n"
          ],
          "name": "stdout"
        }
      ]
    },
    {
      "cell_type": "code",
      "metadata": {
        "colab": {
          "base_uri": "https://localhost:8080/"
        },
        "id": "RStWTV7VKsas",
        "outputId": "95050e44-7a23-4153-badc-43898cd5a66d"
      },
      "source": [
        "#maths between two arrays\n",
        "b=np.array([4,5,6],int)\n",
        "print(a+b)\n",
        "print(a-b)\n",
        "print(a*b)"
      ],
      "execution_count": null,
      "outputs": [
        {
          "output_type": "stream",
          "text": [
            "[5 7 9]\n",
            "[-3 -3 -3]\n",
            "[ 4 10 18]\n"
          ],
          "name": "stdout"
        }
      ]
    },
    {
      "cell_type": "code",
      "metadata": {
        "colab": {
          "base_uri": "https://localhost:8080/"
        },
        "id": "dwtm8VYxlbq1",
        "outputId": "0c3d8ce7-b218-47c4-9648-09f9e02e599d"
      },
      "source": [
        "b=np.array([[1,2,3],[4,5,6]])\n",
        "b"
      ],
      "execution_count": null,
      "outputs": [
        {
          "output_type": "execute_result",
          "data": {
            "text/plain": [
              "array([[1, 2, 3],\n",
              "       [4, 5, 6]])"
            ]
          },
          "metadata": {
            "tags": []
          },
          "execution_count": 33
        }
      ]
    },
    {
      "cell_type": "code",
      "metadata": {
        "colab": {
          "base_uri": "https://localhost:8080/"
        },
        "id": "lmg_-dNklfxG",
        "outputId": "8f023d47-4c52-4188-910b-407d120d1029"
      },
      "source": [
        "#sum along rows\n",
        "print(b.sum(axis=0),\"\\n\")\n",
        "\n",
        "#sum along columns\n",
        "print(b.sum(axis=1),\"\\n\")\n",
        "\n",
        "#total sum\n",
        "print(b.sum())\n"
      ],
      "execution_count": null,
      "outputs": [
        {
          "output_type": "stream",
          "text": [
            "[5 7 9] \n",
            "\n",
            "[ 6 15] \n",
            "\n",
            "21\n"
          ],
          "name": "stdout"
        }
      ]
    },
    {
      "cell_type": "code",
      "metadata": {
        "colab": {
          "base_uri": "https://localhost:8080/"
        },
        "id": "wAibbI1pl1PI",
        "outputId": "058254af-8e93-4400-e0ae-105bbc28b8cb"
      },
      "source": [
        "print(b.cumsum(),\"\\n\")     #first flatten array then find cummulative sum\n",
        "\n",
        "print(b.prod())            #product of all values\n"
      ],
      "execution_count": null,
      "outputs": [
        {
          "output_type": "stream",
          "text": [
            "[ 1  3  6 10 15 21] \n",
            "\n",
            "720\n"
          ],
          "name": "stdout"
        }
      ]
    },
    {
      "cell_type": "code",
      "metadata": {
        "colab": {
          "base_uri": "https://localhost:8080/"
        },
        "id": "GpmECLbqnILU",
        "outputId": "21b9f4de-c1b9-4ac1-d353-e3aa7e066ba2"
      },
      "source": [
        "print(b.max())\n",
        "print(b.max(axis=0))\n",
        "print(b.min())"
      ],
      "execution_count": null,
      "outputs": [
        {
          "output_type": "stream",
          "text": [
            "6\n",
            "[4 5 6]\n",
            "1\n"
          ],
          "name": "stdout"
        }
      ]
    },
    {
      "cell_type": "code",
      "metadata": {
        "colab": {
          "base_uri": "https://localhost:8080/"
        },
        "id": "EFiln58LnVB0",
        "outputId": "73e0163b-c451-4a93-aba1-c194a3d7b5f3"
      },
      "source": [
        "#index of max value\n",
        "print(b.argmax(axis=0))   #max values index along row\n"
      ],
      "execution_count": null,
      "outputs": [
        {
          "output_type": "stream",
          "text": [
            "[1 1 1]\n"
          ],
          "name": "stdout"
        }
      ]
    },
    {
      "cell_type": "markdown",
      "metadata": {
        "id": "4cMEtwh5mP2W"
      },
      "source": [
        "## **Matrix**"
      ]
    },
    {
      "cell_type": "code",
      "metadata": {
        "colab": {
          "base_uri": "https://localhost:8080/"
        },
        "id": "JVNfNLjWmVt9",
        "outputId": "985b1e16-cde8-43db-d0e7-ed7b704b9c35"
      },
      "source": [
        "x=np.array([[1,2],[3,4]])\n",
        "y=np.array([[5,6],[7,8]])\n",
        "\n",
        "#sum of two arrays\n",
        "print(x+y)"
      ],
      "execution_count": null,
      "outputs": [
        {
          "output_type": "stream",
          "text": [
            "[[ 6  8]\n",
            " [10 12]]\n"
          ],
          "name": "stdout"
        }
      ]
    },
    {
      "cell_type": "code",
      "metadata": {
        "colab": {
          "base_uri": "https://localhost:8080/"
        },
        "id": "zD3EJfMwmjcV",
        "outputId": "425d2e13-675f-454a-94cf-2ab71b43a624"
      },
      "source": [
        "#product of two arrays\n",
        "print(x*y)"
      ],
      "execution_count": null,
      "outputs": [
        {
          "output_type": "stream",
          "text": [
            "[[ 5 12]\n",
            " [21 32]]\n"
          ],
          "name": "stdout"
        }
      ]
    },
    {
      "cell_type": "code",
      "metadata": {
        "colab": {
          "base_uri": "https://localhost:8080/"
        },
        "id": "MapZVVP6LhfW",
        "outputId": "e3e27995-1a6c-4b49-e693-0f80159432e6"
      },
      "source": [
        "#matrix multiplication\n",
        "print(np.matmul(x,y))"
      ],
      "execution_count": null,
      "outputs": [
        {
          "output_type": "stream",
          "text": [
            "[[19 22]\n",
            " [43 50]]\n"
          ],
          "name": "stdout"
        }
      ]
    },
    {
      "cell_type": "code",
      "metadata": {
        "colab": {
          "base_uri": "https://localhost:8080/"
        },
        "id": "eW_W_0PnmukK",
        "outputId": "0badfcb7-8e1a-4c36-c249-cf3c6e500840"
      },
      "source": [
        "#Find transpose (a[i][j]=a[j][i])\n",
        "print(x.T)"
      ],
      "execution_count": null,
      "outputs": [
        {
          "output_type": "stream",
          "text": [
            "[[1 3]\n",
            " [2 4]]\n"
          ],
          "name": "stdout"
        }
      ]
    },
    {
      "cell_type": "markdown",
      "metadata": {
        "id": "A5KIQ_bCniaW"
      },
      "source": [
        "## **Extra Features**"
      ]
    },
    {
      "cell_type": "markdown",
      "metadata": {
        "id": "Pc48UvyONx8i"
      },
      "source": [
        "Load data from file\n",
        "\n",
        "a=np.genfromtxt(' data.csv ', delimiter=',' )"
      ]
    },
    {
      "cell_type": "code",
      "metadata": {
        "colab": {
          "base_uri": "https://localhost:8080/"
        },
        "id": "FoU90pXnnnZW",
        "outputId": "312c6c86-4f8e-4915-dad1-030009feb86b"
      },
      "source": [
        "#convert to python list\n",
        "l=x.tolist()\n",
        "l"
      ],
      "execution_count": null,
      "outputs": [
        {
          "output_type": "execute_result",
          "data": {
            "text/plain": [
              "[[1, 2], [3, 4]]"
            ]
          },
          "metadata": {
            "tags": []
          },
          "execution_count": 44
        }
      ]
    },
    {
      "cell_type": "code",
      "metadata": {
        "colab": {
          "base_uri": "https://localhost:8080/"
        },
        "id": "x-kxyQvTOjZD",
        "outputId": "20259c6e-9f73-4de7-89f8-5c06622ae22a"
      },
      "source": [
        "#you can index with list in numpy\n",
        "z=np.array([1,2,3,4,5,6,7,8,9])\n",
        "z=z[[0,1,8]]\n",
        "print(z)"
      ],
      "execution_count": null,
      "outputs": [
        {
          "output_type": "stream",
          "text": [
            "[1 2 9]\n"
          ],
          "name": "stdout"
        }
      ]
    },
    {
      "cell_type": "code",
      "metadata": {
        "colab": {
          "base_uri": "https://localhost:8080/"
        },
        "id": "6PBMjd91PPio",
        "outputId": "86ecae7b-bce4-4d67-f778-643549f1f124"
      },
      "source": [
        "#list as index for 2D array -> pass 2 list [x indexs],[y indexs]\n",
        "z1=np.array([[1,2,3,4,5],[6,7,8,9,10],[11,12,13,14,15]])\n",
        "print(z1[[0,1,2],[1,2,3]])\n",
        "print(\"\\n\",z1)\n",
        "\n",
        "#get 4,5,14,15\n",
        "print(\"\\n\",z1[[0,2],3:])"
      ],
      "execution_count": null,
      "outputs": [
        {
          "output_type": "stream",
          "text": [
            "[ 2  8 14]\n",
            "\n",
            " [[ 1  2  3  4  5]\n",
            " [ 6  7  8  9 10]\n",
            " [11 12 13 14 15]]\n",
            "\n",
            " [[ 4  5]\n",
            " [14 15]]\n"
          ],
          "name": "stdout"
        }
      ]
    },
    {
      "cell_type": "code",
      "metadata": {
        "colab": {
          "base_uri": "https://localhost:8080/"
        },
        "id": "2Sv9OuIun6sS",
        "outputId": "48cd9879-80c9-4701-cf86-e03e0a31bc06"
      },
      "source": [
        "#boolena to check if value satisfied\n",
        "bool_y= y>5         #values in y >5 have True\n",
        "print(bool_y)"
      ],
      "execution_count": null,
      "outputs": [
        {
          "output_type": "stream",
          "text": [
            "[[False  True]\n",
            " [ True  True]]\n"
          ],
          "name": "stdout"
        }
      ]
    },
    {
      "cell_type": "code",
      "metadata": {
        "colab": {
          "base_uri": "https://localhost:8080/"
        },
        "id": "NALdqzmwoPPf",
        "outputId": "e962d4c9-af20-4b4c-97c1-5afc43395788"
      },
      "source": [
        "print(np.where(y>5))    #return tuples of array where condition satisfied"
      ],
      "execution_count": null,
      "outputs": [
        {
          "output_type": "stream",
          "text": [
            "(array([0, 1, 1]), array([1, 0, 1]))\n"
          ],
          "name": "stdout"
        }
      ]
    },
    {
      "cell_type": "markdown",
      "metadata": {
        "id": "DOM9aBUWMem_"
      },
      "source": [
        "Notebook tip:- without being on typing part of cell\n",
        "\n",
        "type a -> add cell above\n",
        "\n",
        "type b-> add cell below"
      ]
    }
  ]
}