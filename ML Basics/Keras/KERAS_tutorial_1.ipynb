{
  "nbformat": 4,
  "nbformat_minor": 0,
  "metadata": {
    "colab": {
      "name": "KERAS_tutorial_1.ipynb",
      "provenance": [],
      "toc_visible": true
    },
    "kernelspec": {
      "name": "python3",
      "display_name": "Python 3"
    },
    "language_info": {
      "name": "python"
    }
  },
  "cells": [
    {
      "cell_type": "markdown",
      "metadata": {
        "id": "aUL8vtv9zC41"
      },
      "source": [
        "**KERAS** is a neural network library which help in developing and evaluating deep learning models. Kers provide high-level API and is built on integration with tensorflow.\n",
        "So downloading tensorflow downloads keras altogether."
      ]
    },
    {
      "cell_type": "markdown",
      "metadata": {
        "id": "IvG7BXU1nNqJ"
      },
      "source": [
        "# DATA PREPRATION AND PROCESSING"
      ]
    },
    {
      "cell_type": "code",
      "metadata": {
        "id": "4LxsBtv1lefo"
      },
      "source": [
        "import numpy as np\n",
        "from random import randint\n",
        "from sklearn.utils import shuffle\n",
        "from sklearn.preprocessing import MinMaxScaler"
      ],
      "execution_count": 2,
      "outputs": []
    },
    {
      "cell_type": "code",
      "metadata": {
        "id": "DRdaQ4lRo7BR"
      },
      "source": [
        "train_labels=[]\n",
        "train_samples=[]"
      ],
      "execution_count": 3,
      "outputs": []
    },
    {
      "cell_type": "markdown",
      "metadata": {
        "id": "iLBzGQKAn-pw"
      },
      "source": [
        "**Example data**\n",
        "\n",
        "1. An experimental drug is tested on individuals from age 13 to 100 in clinical trial.\n",
        "\n",
        "2. Trail had 4200 participants. Half under 65 and half above.\n",
        "3. 95% above 65 had a side effect.\n",
        "4. 95% below 65 had no side effects."
      ]
    },
    {
      "cell_type": "code",
      "metadata": {
        "id": "j9TGdBxSnlu8"
      },
      "source": [
        "#generate data\n",
        "#1 faced side effect 0 no side effect\n",
        "for i in range(50):\n",
        "  #5% below 65 who faced side effect\n",
        "  random_younger=randint(13,64)\n",
        "  train_samples.append(random_younger)\n",
        "  train_labels.append(1)\n",
        "\n",
        "  #5% above 65 without side effect\n",
        "  random_older=randint(65,100)\n",
        "  train_samples.append(random_older)\n",
        "  train_labels.append(0)\n",
        "\n",
        "for i in range(1000):\n",
        "  #95% below 65 who faced side effect\n",
        "  random_younger=randint(13,64)\n",
        "  train_samples.append(random_younger)\n",
        "  train_labels.append(0)\n",
        "\n",
        "  #95% above 65 without side effect\n",
        "  random_older=randint(65,100)\n",
        "  train_samples.append(random_older)\n",
        "  train_labels.append(1)\n"
      ],
      "execution_count": 4,
      "outputs": []
    },
    {
      "cell_type": "code",
      "metadata": {
        "id": "Es5_xu4IqK1I"
      },
      "source": [
        "#convert vector to numpy array\n",
        "train_labels=np.array(train_labels)\n",
        "train_samples=np.array(train_samples)\n",
        "train_labels,train_samples=shuffle(train_labels,train_samples)      #to prevent any oreder if made during data generation"
      ],
      "execution_count": 5,
      "outputs": []
    },
    {
      "cell_type": "code",
      "metadata": {
        "id": "Ytclzf7Nqp0b"
      },
      "source": [
        "#scale down data (13-100) to (0-1)    #eariler we did this by divding with 255.0 for images \n",
        "#reshaped since fit trainsform accepts like this\n",
        "# -1 in reshape function is used when you dont know or want to explicitly tell the dimension of that axis. E.g,\n",
        "# If you have an array of shape (2,4) then reshaping it with (-1, 1), then the array will get reshaped in such a way that the resulting array has only 1 column and this is only possible by having 8 rows, hence, (8,1).\n",
        "\n",
        "scalar=MinMaxScaler(feature_range=(0,1))\n",
        "scaled_train_samples=scalar.fit_transform(train_samples.reshape(-1,1))"
      ],
      "execution_count": 6,
      "outputs": []
    },
    {
      "cell_type": "code",
      "metadata": {
        "colab": {
          "base_uri": "https://localhost:8080/"
        },
        "id": "_p_1US6_sW-s",
        "outputId": "284e49b3-d4f2-4db7-b1a3-1fc143c18224"
      },
      "source": [
        "#checking\n",
        "for i in range(5):\n",
        "  print(scaled_train_samples[i],train_samples[i])"
      ],
      "execution_count": 7,
      "outputs": [
        {
          "output_type": "stream",
          "text": [
            "[0.63218391] 68\n",
            "[0.82758621] 85\n",
            "[0.05747126] 18\n",
            "[0.62068966] 67\n",
            "[0.36781609] 45\n"
          ],
          "name": "stdout"
        }
      ]
    },
    {
      "cell_type": "code",
      "metadata": {
        "colab": {
          "base_uri": "https://localhost:8080/"
        },
        "id": "ogfAdsp7vQyd",
        "outputId": "5c2e50c2-264d-4d05-a611-38e1748cc61f"
      },
      "source": [
        "print(scaled_train_samples.shape)"
      ],
      "execution_count": 8,
      "outputs": [
        {
          "output_type": "stream",
          "text": [
            "(2100, 1)\n"
          ],
          "name": "stdout"
        }
      ]
    },
    {
      "cell_type": "markdown",
      "metadata": {
        "id": "R3WW4vabtafs"
      },
      "source": [
        "#Simple Keras Sequential Model"
      ]
    },
    {
      "cell_type": "code",
      "metadata": {
        "id": "fq4g_sqnsoum"
      },
      "source": [
        "import tensorflow as tf\n",
        "import keras\n",
        "from keras.models import Sequential\n",
        "from keras.layers import Dense,Activation,Dropout"
      ],
      "execution_count": 9,
      "outputs": []
    },
    {
      "cell_type": "code",
      "metadata": {
        "id": "dkQ2JKoYuaQc"
      },
      "source": [
        "#choice of number of nodes is random.\n",
        "model=Sequential([\n",
        "          Dense(units=16,input_shape=(1,),activation='relu'),\n",
        "          Dense(units=32,activation='relu'),\n",
        "          Dense(units=2,activation='softmax')\n",
        "])"
      ],
      "execution_count": 10,
      "outputs": []
    },
    {
      "cell_type": "code",
      "metadata": {
        "colab": {
          "base_uri": "https://localhost:8080/"
        },
        "id": "uoDebypou2te",
        "outputId": "0c557fdf-7b45-4173-9f91-f795715eb65b"
      },
      "source": [
        "model.summary()"
      ],
      "execution_count": 11,
      "outputs": [
        {
          "output_type": "stream",
          "text": [
            "Model: \"sequential\"\n",
            "_________________________________________________________________\n",
            "Layer (type)                 Output Shape              Param #   \n",
            "=================================================================\n",
            "dense (Dense)                (None, 16)                32        \n",
            "_________________________________________________________________\n",
            "dense_1 (Dense)              (None, 32)                544       \n",
            "_________________________________________________________________\n",
            "dense_2 (Dense)              (None, 2)                 66        \n",
            "=================================================================\n",
            "Total params: 642\n",
            "Trainable params: 642\n",
            "Non-trainable params: 0\n",
            "_________________________________________________________________\n"
          ],
          "name": "stdout"
        }
      ]
    },
    {
      "cell_type": "code",
      "metadata": {
        "id": "EnDjLGe3u6kQ"
      },
      "source": [
        "#compile specifies detials like optimizer,loss and metrics to define model\n",
        "model.compile(optimizer='adam',loss='sparse_categorical_crossentropy',metrics=['accuracy'])"
      ],
      "execution_count": 12,
      "outputs": []
    },
    {
      "cell_type": "code",
      "metadata": {
        "colab": {
          "base_uri": "https://localhost:8080/"
        },
        "id": "-BShrBPHwBfq",
        "outputId": "f912d23b-adaa-4273-a93c-f1abfc82ef28"
      },
      "source": [
        "#model fit is training the data\n",
        "\n",
        "#you may see model not running on full data\n",
        "# IMPORTANT :-\n",
        "# The number total_count/32(132 here) shown during fitting the model is not the training samples; it is the number of batches.\n",
        "# model.fit includes an optional argument batch_size, which, according to the documentation:\n",
        "# If unspecified, batch_size will default to 32.\n",
        "#keep batch_size more so that model runs faster.\n",
        "\n",
        "#verbose=0 no details to show, 2 show full details (0,1,2 allowed values)\n",
        "\n",
        "#more number of epoches better is the accuracy\n",
        "#more number of running this model more better is accuracy, since fit starts from point it left last time.\n",
        "\n",
        "\n",
        "model.fit(x=scaled_train_samples,y=train_labels,epochs=50,verbose=2)"
      ],
      "execution_count": 13,
      "outputs": [
        {
          "output_type": "stream",
          "text": [
            "Epoch 1/50\n",
            "66/66 - 14s - loss: 0.6797 - accuracy: 0.4948\n",
            "Epoch 2/50\n",
            "66/66 - 0s - loss: 0.5695 - accuracy: 0.7386\n",
            "Epoch 3/50\n",
            "66/66 - 0s - loss: 0.4634 - accuracy: 0.8371\n",
            "Epoch 4/50\n",
            "66/66 - 0s - loss: 0.3686 - accuracy: 0.9029\n",
            "Epoch 5/50\n",
            "66/66 - 0s - loss: 0.3081 - accuracy: 0.9271\n",
            "Epoch 6/50\n",
            "66/66 - 0s - loss: 0.2765 - accuracy: 0.9333\n",
            "Epoch 7/50\n",
            "66/66 - 0s - loss: 0.2627 - accuracy: 0.9395\n",
            "Epoch 8/50\n",
            "66/66 - 0s - loss: 0.2564 - accuracy: 0.9386\n",
            "Epoch 9/50\n",
            "66/66 - 0s - loss: 0.2509 - accuracy: 0.9410\n",
            "Epoch 10/50\n",
            "66/66 - 0s - loss: 0.2475 - accuracy: 0.9433\n",
            "Epoch 11/50\n",
            "66/66 - 0s - loss: 0.2463 - accuracy: 0.9419\n",
            "Epoch 12/50\n",
            "66/66 - 0s - loss: 0.2440 - accuracy: 0.9452\n",
            "Epoch 13/50\n",
            "66/66 - 0s - loss: 0.2422 - accuracy: 0.9433\n",
            "Epoch 14/50\n",
            "66/66 - 0s - loss: 0.2409 - accuracy: 0.9452\n",
            "Epoch 15/50\n",
            "66/66 - 0s - loss: 0.2402 - accuracy: 0.9443\n",
            "Epoch 16/50\n",
            "66/66 - 0s - loss: 0.2399 - accuracy: 0.9448\n",
            "Epoch 17/50\n",
            "66/66 - 0s - loss: 0.2395 - accuracy: 0.9467\n",
            "Epoch 18/50\n",
            "66/66 - 0s - loss: 0.2387 - accuracy: 0.9452\n",
            "Epoch 19/50\n",
            "66/66 - 0s - loss: 0.2386 - accuracy: 0.9490\n",
            "Epoch 20/50\n",
            "66/66 - 0s - loss: 0.2380 - accuracy: 0.9452\n",
            "Epoch 21/50\n",
            "66/66 - 0s - loss: 0.2365 - accuracy: 0.9452\n",
            "Epoch 22/50\n",
            "66/66 - 0s - loss: 0.2362 - accuracy: 0.9448\n",
            "Epoch 23/50\n",
            "66/66 - 0s - loss: 0.2355 - accuracy: 0.9414\n",
            "Epoch 24/50\n",
            "66/66 - 0s - loss: 0.2348 - accuracy: 0.9462\n",
            "Epoch 25/50\n",
            "66/66 - 0s - loss: 0.2337 - accuracy: 0.9467\n",
            "Epoch 26/50\n",
            "66/66 - 0s - loss: 0.2332 - accuracy: 0.9410\n",
            "Epoch 27/50\n",
            "66/66 - 0s - loss: 0.2344 - accuracy: 0.9433\n",
            "Epoch 28/50\n",
            "66/66 - 0s - loss: 0.2323 - accuracy: 0.9452\n",
            "Epoch 29/50\n",
            "66/66 - 0s - loss: 0.2321 - accuracy: 0.9448\n",
            "Epoch 30/50\n",
            "66/66 - 0s - loss: 0.2312 - accuracy: 0.9452\n",
            "Epoch 31/50\n",
            "66/66 - 0s - loss: 0.2310 - accuracy: 0.9452\n",
            "Epoch 32/50\n",
            "66/66 - 0s - loss: 0.2302 - accuracy: 0.9481\n",
            "Epoch 33/50\n",
            "66/66 - 0s - loss: 0.2295 - accuracy: 0.9462\n",
            "Epoch 34/50\n",
            "66/66 - 0s - loss: 0.2293 - accuracy: 0.9467\n",
            "Epoch 35/50\n",
            "66/66 - 0s - loss: 0.2284 - accuracy: 0.9467\n",
            "Epoch 36/50\n",
            "66/66 - 0s - loss: 0.2293 - accuracy: 0.9433\n",
            "Epoch 37/50\n",
            "66/66 - 0s - loss: 0.2272 - accuracy: 0.9486\n",
            "Epoch 38/50\n",
            "66/66 - 0s - loss: 0.2265 - accuracy: 0.9443\n",
            "Epoch 39/50\n",
            "66/66 - 0s - loss: 0.2265 - accuracy: 0.9476\n",
            "Epoch 40/50\n",
            "66/66 - 0s - loss: 0.2263 - accuracy: 0.9462\n",
            "Epoch 41/50\n",
            "66/66 - 0s - loss: 0.2249 - accuracy: 0.9457\n",
            "Epoch 42/50\n",
            "66/66 - 0s - loss: 0.2242 - accuracy: 0.9476\n",
            "Epoch 43/50\n",
            "66/66 - 0s - loss: 0.2248 - accuracy: 0.9452\n",
            "Epoch 44/50\n",
            "66/66 - 0s - loss: 0.2234 - accuracy: 0.9462\n",
            "Epoch 45/50\n",
            "66/66 - 0s - loss: 0.2235 - accuracy: 0.9481\n",
            "Epoch 46/50\n",
            "66/66 - 0s - loss: 0.2225 - accuracy: 0.9467\n",
            "Epoch 47/50\n",
            "66/66 - 0s - loss: 0.2225 - accuracy: 0.9476\n",
            "Epoch 48/50\n",
            "66/66 - 0s - loss: 0.2215 - accuracy: 0.9467\n",
            "Epoch 49/50\n",
            "66/66 - 0s - loss: 0.2207 - accuracy: 0.9467\n",
            "Epoch 50/50\n",
            "66/66 - 0s - loss: 0.2204 - accuracy: 0.9452\n"
          ],
          "name": "stdout"
        },
        {
          "output_type": "execute_result",
          "data": {
            "text/plain": [
              "<keras.callbacks.History at 0x7fae7a254cd0>"
            ]
          },
          "metadata": {
            "tags": []
          },
          "execution_count": 13
        }
      ]
    },
    {
      "cell_type": "markdown",
      "metadata": {
        "id": "wKnxFfmF1R_U"
      },
      "source": [
        "## Validating Model\n",
        "\n",
        "validation dataset is used to see if model is generalized for other data too.\n",
        "Validation is usually part of data taken from training data. Model only learns from training data. \n",
        "**To see model accuracy see validation accuracy.**\n",
        "\n",
        "1. can have seperate validation data\n",
        "2. or can use validation_split=x to have x fraction of training data for validation, x between 0 to 1\n"
      ]
    },
    {
      "cell_type": "code",
      "metadata": {
        "colab": {
          "base_uri": "https://localhost:8080/"
        },
        "id": "7Sx9pi3j1RqB",
        "outputId": "7d42cfc3-1491-4fc4-935c-2cf941aa5d18"
      },
      "source": [
        "model.fit(x=scaled_train_samples,y=train_labels,validation_split=0.1,epochs=50,verbose=2)"
      ],
      "execution_count": 14,
      "outputs": [
        {
          "output_type": "stream",
          "text": [
            "Epoch 1/50\n",
            "60/60 - 1s - loss: 0.2200 - accuracy: 0.9481 - val_loss: 0.2188 - val_accuracy: 0.9333\n",
            "Epoch 2/50\n",
            "60/60 - 0s - loss: 0.2191 - accuracy: 0.9460 - val_loss: 0.2166 - val_accuracy: 0.9333\n",
            "Epoch 3/50\n",
            "60/60 - 0s - loss: 0.2192 - accuracy: 0.9466 - val_loss: 0.2184 - val_accuracy: 0.9333\n",
            "Epoch 4/50\n",
            "60/60 - 0s - loss: 0.2186 - accuracy: 0.9460 - val_loss: 0.2188 - val_accuracy: 0.9333\n",
            "Epoch 5/50\n",
            "60/60 - 0s - loss: 0.2179 - accuracy: 0.9487 - val_loss: 0.2235 - val_accuracy: 0.9333\n",
            "Epoch 6/50\n",
            "60/60 - 0s - loss: 0.2181 - accuracy: 0.9450 - val_loss: 0.2206 - val_accuracy: 0.9333\n",
            "Epoch 7/50\n",
            "60/60 - 0s - loss: 0.2184 - accuracy: 0.9450 - val_loss: 0.2165 - val_accuracy: 0.9333\n",
            "Epoch 8/50\n",
            "60/60 - 0s - loss: 0.2165 - accuracy: 0.9481 - val_loss: 0.2145 - val_accuracy: 0.9333\n",
            "Epoch 9/50\n",
            "60/60 - 0s - loss: 0.2160 - accuracy: 0.9466 - val_loss: 0.2142 - val_accuracy: 0.9333\n",
            "Epoch 10/50\n",
            "60/60 - 0s - loss: 0.2166 - accuracy: 0.9466 - val_loss: 0.2170 - val_accuracy: 0.9333\n",
            "Epoch 11/50\n",
            "60/60 - 0s - loss: 0.2162 - accuracy: 0.9487 - val_loss: 0.2151 - val_accuracy: 0.9333\n",
            "Epoch 12/50\n",
            "60/60 - 0s - loss: 0.2158 - accuracy: 0.9450 - val_loss: 0.2139 - val_accuracy: 0.9571\n",
            "Epoch 13/50\n",
            "60/60 - 0s - loss: 0.2163 - accuracy: 0.9439 - val_loss: 0.2119 - val_accuracy: 0.9571\n",
            "Epoch 14/50\n",
            "60/60 - 0s - loss: 0.2159 - accuracy: 0.9460 - val_loss: 0.2139 - val_accuracy: 0.9333\n",
            "Epoch 15/50\n",
            "60/60 - 0s - loss: 0.2136 - accuracy: 0.9466 - val_loss: 0.2209 - val_accuracy: 0.9333\n",
            "Epoch 16/50\n",
            "60/60 - 0s - loss: 0.2139 - accuracy: 0.9466 - val_loss: 0.2135 - val_accuracy: 0.9571\n",
            "Epoch 17/50\n",
            "60/60 - 0s - loss: 0.2132 - accuracy: 0.9503 - val_loss: 0.2139 - val_accuracy: 0.9333\n",
            "Epoch 18/50\n",
            "60/60 - 0s - loss: 0.2137 - accuracy: 0.9481 - val_loss: 0.2125 - val_accuracy: 0.9333\n",
            "Epoch 19/50\n",
            "60/60 - 0s - loss: 0.2131 - accuracy: 0.9471 - val_loss: 0.2163 - val_accuracy: 0.9333\n",
            "Epoch 20/50\n",
            "60/60 - 0s - loss: 0.2128 - accuracy: 0.9455 - val_loss: 0.2128 - val_accuracy: 0.9571\n",
            "Epoch 21/50\n",
            "60/60 - 0s - loss: 0.2129 - accuracy: 0.9471 - val_loss: 0.2090 - val_accuracy: 0.9571\n",
            "Epoch 22/50\n",
            "60/60 - 0s - loss: 0.2120 - accuracy: 0.9492 - val_loss: 0.2097 - val_accuracy: 0.9571\n",
            "Epoch 23/50\n",
            "60/60 - 0s - loss: 0.2130 - accuracy: 0.9460 - val_loss: 0.2129 - val_accuracy: 0.9333\n",
            "Epoch 24/50\n",
            "60/60 - 0s - loss: 0.2108 - accuracy: 0.9476 - val_loss: 0.2122 - val_accuracy: 0.9333\n",
            "Epoch 25/50\n",
            "60/60 - 0s - loss: 0.2106 - accuracy: 0.9492 - val_loss: 0.2088 - val_accuracy: 0.9571\n",
            "Epoch 26/50\n",
            "60/60 - 0s - loss: 0.2105 - accuracy: 0.9476 - val_loss: 0.2074 - val_accuracy: 0.9571\n",
            "Epoch 27/50\n",
            "60/60 - 0s - loss: 0.2119 - accuracy: 0.9476 - val_loss: 0.2097 - val_accuracy: 0.9333\n",
            "Epoch 28/50\n",
            "60/60 - 0s - loss: 0.2099 - accuracy: 0.9471 - val_loss: 0.2096 - val_accuracy: 0.9333\n",
            "Epoch 29/50\n",
            "60/60 - 0s - loss: 0.2096 - accuracy: 0.9487 - val_loss: 0.2214 - val_accuracy: 0.9238\n",
            "Epoch 30/50\n",
            "60/60 - 0s - loss: 0.2098 - accuracy: 0.9492 - val_loss: 0.2147 - val_accuracy: 0.9333\n",
            "Epoch 31/50\n",
            "60/60 - 0s - loss: 0.2096 - accuracy: 0.9476 - val_loss: 0.2130 - val_accuracy: 0.9333\n",
            "Epoch 32/50\n",
            "60/60 - 0s - loss: 0.2082 - accuracy: 0.9471 - val_loss: 0.2066 - val_accuracy: 0.9571\n",
            "Epoch 33/50\n",
            "60/60 - 0s - loss: 0.2086 - accuracy: 0.9471 - val_loss: 0.2060 - val_accuracy: 0.9571\n",
            "Epoch 34/50\n",
            "60/60 - 0s - loss: 0.2091 - accuracy: 0.9476 - val_loss: 0.2124 - val_accuracy: 0.9333\n",
            "Epoch 35/50\n",
            "60/60 - 0s - loss: 0.2081 - accuracy: 0.9476 - val_loss: 0.2086 - val_accuracy: 0.9333\n",
            "Epoch 36/50\n",
            "60/60 - 0s - loss: 0.2076 - accuracy: 0.9508 - val_loss: 0.2072 - val_accuracy: 0.9571\n",
            "Epoch 37/50\n",
            "60/60 - 0s - loss: 0.2075 - accuracy: 0.9492 - val_loss: 0.2135 - val_accuracy: 0.9333\n",
            "Epoch 38/50\n",
            "60/60 - 0s - loss: 0.2073 - accuracy: 0.9466 - val_loss: 0.2049 - val_accuracy: 0.9571\n",
            "Epoch 39/50\n",
            "60/60 - 0s - loss: 0.2072 - accuracy: 0.9487 - val_loss: 0.2112 - val_accuracy: 0.9333\n",
            "Epoch 40/50\n",
            "60/60 - 0s - loss: 0.2086 - accuracy: 0.9444 - val_loss: 0.2042 - val_accuracy: 0.9571\n",
            "Epoch 41/50\n",
            "60/60 - 0s - loss: 0.2072 - accuracy: 0.9492 - val_loss: 0.2068 - val_accuracy: 0.9333\n",
            "Epoch 42/50\n",
            "60/60 - 0s - loss: 0.2067 - accuracy: 0.9487 - val_loss: 0.2089 - val_accuracy: 0.9333\n",
            "Epoch 43/50\n",
            "60/60 - 0s - loss: 0.2063 - accuracy: 0.9497 - val_loss: 0.2094 - val_accuracy: 0.9333\n",
            "Epoch 44/50\n",
            "60/60 - 0s - loss: 0.2058 - accuracy: 0.9455 - val_loss: 0.2057 - val_accuracy: 0.9571\n",
            "Epoch 45/50\n",
            "60/60 - 0s - loss: 0.2063 - accuracy: 0.9487 - val_loss: 0.2055 - val_accuracy: 0.9571\n",
            "Epoch 46/50\n",
            "60/60 - 0s - loss: 0.2054 - accuracy: 0.9487 - val_loss: 0.2071 - val_accuracy: 0.9333\n",
            "Epoch 47/50\n",
            "60/60 - 0s - loss: 0.2053 - accuracy: 0.9471 - val_loss: 0.2114 - val_accuracy: 0.9333\n",
            "Epoch 48/50\n",
            "60/60 - 0s - loss: 0.2066 - accuracy: 0.9497 - val_loss: 0.2125 - val_accuracy: 0.9333\n",
            "Epoch 49/50\n",
            "60/60 - 0s - loss: 0.2065 - accuracy: 0.9471 - val_loss: 0.2023 - val_accuracy: 0.9571\n",
            "Epoch 50/50\n",
            "60/60 - 0s - loss: 0.2062 - accuracy: 0.9481 - val_loss: 0.2017 - val_accuracy: 0.9571\n"
          ],
          "name": "stdout"
        },
        {
          "output_type": "execute_result",
          "data": {
            "text/plain": [
              "<keras.callbacks.History at 0x7fae796a5190>"
            ]
          },
          "metadata": {
            "tags": []
          },
          "execution_count": 14
        }
      ]
    },
    {
      "cell_type": "markdown",
      "metadata": {
        "id": "JKFBagjCSKKJ"
      },
      "source": [
        "**If accuracy and validation-accuracy are nearly equal then model is fine, if val-accuracy is quite low then accuracy then there can be either underfitting or overfitting. If on running more epoches val-accuracy not improves so overfitting is the problem**"
      ]
    },
    {
      "cell_type": "markdown",
      "metadata": {
        "id": "01L98wfMUfXJ"
      },
      "source": [
        "# Testing"
      ]
    },
    {
      "cell_type": "code",
      "metadata": {
        "id": "mtgDyj6p1Ap_"
      },
      "source": [
        "#generating test data\n",
        "test_labels=[]\n",
        "test_samples=[]"
      ],
      "execution_count": 18,
      "outputs": []
    },
    {
      "cell_type": "code",
      "metadata": {
        "id": "yM2pY0tkUp4f"
      },
      "source": [
        "#generate test data\n",
        "#1 faced side effect 0 no side effect\n",
        "for i in range(10):\n",
        "  #5% below 65 who faced side effect\n",
        "  random_younger=randint(13,64)\n",
        "  test_samples.append(random_younger)\n",
        "  test_labels.append(1)\n",
        "\n",
        "  #5% above 65 without side effect\n",
        "  random_older=randint(65,100)\n",
        "  test_samples.append(random_older)\n",
        "  test_labels.append(0)\n",
        "\n",
        "for i in range(200):\n",
        "  #95% below 65 who faced side effect\n",
        "  random_younger=randint(13,64)\n",
        "  test_samples.append(random_younger)\n",
        "  test_labels.append(0)\n",
        "\n",
        "  #95% above 65 without side effect\n",
        "  random_older=randint(65,100)\n",
        "  test_samples.append(random_older)\n",
        "  test_labels.append(1)"
      ],
      "execution_count": 19,
      "outputs": []
    },
    {
      "cell_type": "code",
      "metadata": {
        "id": "m7ij6cL-VIWx"
      },
      "source": [
        "# convert vector to numpy array\n",
        "test_labels=np.array(test_labels)\n",
        "test_samples=np.array(test_samples)\n",
        "test_labels,test_samples=shuffle(test_labels,test_samples)  \n",
        "\n",
        "#scale down\n",
        "scalar=MinMaxScaler(feature_range=(0,1))\n",
        "scaled_test_samples=scalar.fit_transform(test_samples.reshape(-1,1))\n"
      ],
      "execution_count": 23,
      "outputs": []
    },
    {
      "cell_type": "markdown",
      "metadata": {
        "id": "Od2aInDyXDaT"
      },
      "source": [
        "#Predict"
      ]
    },
    {
      "cell_type": "code",
      "metadata": {
        "id": "gy_VoEWuXFk3"
      },
      "source": [
        "np.set_printoptions(precision=3)\n",
        "predictions=model.predict(scaled_test_samples)"
      ],
      "execution_count": 42,
      "outputs": []
    },
    {
      "cell_type": "code",
      "metadata": {
        "colab": {
          "base_uri": "https://localhost:8080/"
        },
        "id": "igKZ7f8DXaUD",
        "outputId": "eae4eced-180b-443e-cfb6-3b378403de32"
      },
      "source": [
        "for i in predictions:\n",
        "  print(i)"
      ],
      "execution_count": 43,
      "outputs": [
        {
          "output_type": "stream",
          "text": [
            "[0.953 0.047]\n",
            "[0.951 0.049]\n",
            "[0.953 0.047]\n",
            "[0.062 0.938]\n",
            "[0.953 0.047]\n",
            "[0.953 0.047]\n",
            "[0.05 0.95]\n",
            "[0.047 0.953]\n",
            "[0.054 0.946]\n",
            "[0.05 0.95]\n",
            "[0.08 0.92]\n",
            "[0.055 0.945]\n",
            "[0.953 0.047]\n",
            "[0.953 0.047]\n",
            "[0.953 0.047]\n",
            "[0.953 0.047]\n",
            "[0.038 0.962]\n",
            "[0.059 0.941]\n",
            "[0.039 0.961]\n",
            "[0.039 0.961]\n",
            "[0.953 0.047]\n",
            "[0.048 0.952]\n",
            "[0.953 0.047]\n",
            "[0.097 0.903]\n",
            "[0.044 0.956]\n",
            "[0.953 0.047]\n",
            "[0.953 0.047]\n",
            "[0.953 0.047]\n",
            "[0.036 0.964]\n",
            "[0.952 0.048]\n",
            "[0.953 0.047]\n",
            "[0.953 0.047]\n",
            "[0.953 0.047]\n",
            "[0.048 0.952]\n",
            "[0.953 0.047]\n",
            "[0.953 0.047]\n",
            "[0.053 0.947]\n",
            "[0.097 0.903]\n",
            "[0.051 0.949]\n",
            "[0.953 0.047]\n",
            "[0.063 0.937]\n",
            "[0.403 0.597]\n",
            "[0.403 0.597]\n",
            "[0.953 0.047]\n",
            "[0.036 0.964]\n",
            "[0.403 0.597]\n",
            "[0.953 0.047]\n",
            "[0.044 0.956]\n",
            "[0.953 0.047]\n",
            "[0.954 0.046]\n",
            "[0.953 0.047]\n",
            "[0.953 0.047]\n",
            "[0.062 0.938]\n",
            "[0.953 0.047]\n",
            "[0.953 0.047]\n",
            "[0.035 0.965]\n",
            "[0.403 0.597]\n",
            "[0.953 0.047]\n",
            "[0.953 0.047]\n",
            "[0.403 0.597]\n",
            "[0.034 0.966]\n",
            "[0.94 0.06]\n",
            "[0.052 0.948]\n",
            "[0.953 0.047]\n",
            "[0.944 0.056]\n",
            "[0.953 0.047]\n",
            "[0.06 0.94]\n",
            "[0.034 0.966]\n",
            "[0.04 0.96]\n",
            "[0.953 0.047]\n",
            "[0.034 0.966]\n",
            "[0.952 0.048]\n",
            "[0.915 0.085]\n",
            "[0.953 0.047]\n",
            "[0.047 0.953]\n",
            "[0.049 0.951]\n",
            "[0.035 0.965]\n",
            "[0.046 0.954]\n",
            "[0.063 0.937]\n",
            "[0.035 0.965]\n",
            "[0.049 0.951]\n",
            "[0.954 0.046]\n",
            "[0.952 0.048]\n",
            "[0.058 0.942]\n",
            "[0.041 0.959]\n",
            "[0.211 0.789]\n",
            "[0.059 0.941]\n",
            "[0.954 0.046]\n",
            "[0.953 0.047]\n",
            "[0.403 0.597]\n",
            "[0.952 0.048]\n",
            "[0.048 0.952]\n",
            "[0.034 0.966]\n",
            "[0.953 0.047]\n",
            "[0.953 0.047]\n",
            "[0.038 0.962]\n",
            "[0.074 0.926]\n",
            "[0.403 0.597]\n",
            "[0.045 0.955]\n",
            "[0.953 0.047]\n",
            "[0.053 0.947]\n",
            "[0.04 0.96]\n",
            "[0.211 0.789]\n",
            "[0.953 0.047]\n",
            "[0.035 0.965]\n",
            "[0.051 0.949]\n",
            "[0.953 0.047]\n",
            "[0.952 0.048]\n",
            "[0.953 0.047]\n",
            "[0.953 0.047]\n",
            "[0.049 0.951]\n",
            "[0.954 0.046]\n",
            "[0.953 0.047]\n",
            "[0.953 0.047]\n",
            "[0.039 0.961]\n",
            "[0.953 0.047]\n",
            "[0.953 0.047]\n",
            "[0.953 0.047]\n",
            "[0.051 0.949]\n",
            "[0.953 0.047]\n",
            "[0.043 0.957]\n",
            "[0.953 0.047]\n",
            "[0.953 0.047]\n",
            "[0.055 0.945]\n",
            "[0.954 0.046]\n",
            "[0.062 0.938]\n",
            "[0.952 0.048]\n",
            "[0.062 0.938]\n",
            "[0.08 0.92]\n",
            "[0.953 0.047]\n",
            "[0.953 0.047]\n",
            "[0.952 0.048]\n",
            "[0.953 0.047]\n",
            "[0.952 0.048]\n",
            "[0.046 0.954]\n",
            "[0.953 0.047]\n",
            "[0.954 0.046]\n",
            "[0.944 0.056]\n",
            "[0.953 0.047]\n",
            "[0.953 0.047]\n",
            "[0.811 0.189]\n",
            "[0.953 0.047]\n",
            "[0.045 0.955]\n",
            "[0.953 0.047]\n",
            "[0.062 0.938]\n",
            "[0.953 0.047]\n",
            "[0.953 0.047]\n",
            "[0.068 0.932]\n",
            "[0.211 0.789]\n",
            "[0.046 0.954]\n",
            "[0.953 0.047]\n",
            "[0.953 0.047]\n",
            "[0.953 0.047]\n",
            "[0.952 0.048]\n",
            "[0.038 0.962]\n",
            "[0.953 0.047]\n",
            "[0.059 0.941]\n",
            "[0.048 0.952]\n",
            "[0.038 0.962]\n",
            "[0.953 0.047]\n",
            "[0.953 0.047]\n",
            "[0.037 0.963]\n",
            "[0.403 0.597]\n",
            "[0.045 0.955]\n",
            "[0.953 0.047]\n",
            "[0.055 0.945]\n",
            "[0.954 0.046]\n",
            "[0.038 0.962]\n",
            "[0.403 0.597]\n",
            "[0.953 0.047]\n",
            "[0.944 0.056]\n",
            "[0.953 0.047]\n",
            "[0.052 0.948]\n",
            "[0.046 0.954]\n",
            "[0.953 0.047]\n",
            "[0.953 0.047]\n",
            "[0.953 0.047]\n",
            "[0.049 0.951]\n",
            "[0.953 0.047]\n",
            "[0.04 0.96]\n",
            "[0.034 0.966]\n",
            "[0.951 0.049]\n",
            "[0.051 0.949]\n",
            "[0.953 0.047]\n",
            "[0.08 0.92]\n",
            "[0.953 0.047]\n",
            "[0.953 0.047]\n",
            "[0.062 0.938]\n",
            "[0.953 0.047]\n",
            "[0.953 0.047]\n",
            "[0.06 0.94]\n",
            "[0.953 0.047]\n",
            "[0.953 0.047]\n",
            "[0.937 0.063]\n",
            "[0.034 0.966]\n",
            "[0.953 0.047]\n",
            "[0.953 0.047]\n",
            "[0.058 0.942]\n",
            "[0.047 0.953]\n",
            "[0.951 0.049]\n",
            "[0.063 0.937]\n",
            "[0.953 0.047]\n",
            "[0.038 0.962]\n",
            "[0.953 0.047]\n",
            "[0.63 0.37]\n",
            "[0.044 0.956]\n",
            "[0.04 0.96]\n",
            "[0.953 0.047]\n",
            "[0.953 0.047]\n",
            "[0.944 0.056]\n",
            "[0.045 0.955]\n",
            "[0.953 0.047]\n",
            "[0.953 0.047]\n",
            "[0.953 0.047]\n",
            "[0.063 0.937]\n",
            "[0.063 0.937]\n",
            "[0.054 0.946]\n",
            "[0.953 0.047]\n",
            "[0.05 0.95]\n",
            "[0.63 0.37]\n",
            "[0.953 0.047]\n",
            "[0.068 0.932]\n",
            "[0.932 0.068]\n",
            "[0.045 0.955]\n",
            "[0.049 0.951]\n",
            "[0.953 0.047]\n",
            "[0.04 0.96]\n",
            "[0.953 0.047]\n",
            "[0.045 0.955]\n",
            "[0.036 0.964]\n",
            "[0.034 0.966]\n",
            "[0.915 0.085]\n",
            "[0.953 0.047]\n",
            "[0.944 0.056]\n",
            "[0.06 0.94]\n",
            "[0.953 0.047]\n",
            "[0.074 0.926]\n",
            "[0.953 0.047]\n",
            "[0.953 0.047]\n",
            "[0.953 0.047]\n",
            "[0.953 0.047]\n",
            "[0.953 0.047]\n",
            "[0.953 0.047]\n",
            "[0.953 0.047]\n",
            "[0.038 0.962]\n",
            "[0.944 0.056]\n",
            "[0.952 0.048]\n",
            "[0.063 0.937]\n",
            "[0.039 0.961]\n",
            "[0.059 0.941]\n",
            "[0.074 0.926]\n",
            "[0.952 0.048]\n",
            "[0.944 0.056]\n",
            "[0.953 0.047]\n",
            "[0.034 0.966]\n",
            "[0.035 0.965]\n",
            "[0.057 0.943]\n",
            "[0.211 0.789]\n",
            "[0.953 0.047]\n",
            "[0.048 0.952]\n",
            "[0.953 0.047]\n",
            "[0.953 0.047]\n",
            "[0.038 0.962]\n",
            "[0.048 0.952]\n",
            "[0.954 0.046]\n",
            "[0.951 0.049]\n",
            "[0.953 0.047]\n",
            "[0.034 0.966]\n",
            "[0.055 0.945]\n",
            "[0.059 0.941]\n",
            "[0.953 0.047]\n",
            "[0.06 0.94]\n",
            "[0.058 0.942]\n",
            "[0.953 0.047]\n",
            "[0.042 0.958]\n",
            "[0.037 0.963]\n",
            "[0.953 0.047]\n",
            "[0.953 0.047]\n",
            "[0.953 0.047]\n",
            "[0.953 0.047]\n",
            "[0.953 0.047]\n",
            "[0.953 0.047]\n",
            "[0.097 0.903]\n",
            "[0.035 0.965]\n",
            "[0.953 0.047]\n",
            "[0.045 0.955]\n",
            "[0.05 0.95]\n",
            "[0.046 0.954]\n",
            "[0.954 0.046]\n",
            "[0.953 0.047]\n",
            "[0.062 0.938]\n",
            "[0.944 0.056]\n",
            "[0.062 0.938]\n",
            "[0.953 0.047]\n",
            "[0.06 0.94]\n",
            "[0.062 0.938]\n",
            "[0.953 0.047]\n",
            "[0.04 0.96]\n",
            "[0.038 0.962]\n",
            "[0.953 0.047]\n",
            "[0.08 0.92]\n",
            "[0.954 0.046]\n",
            "[0.062 0.938]\n",
            "[0.035 0.965]\n",
            "[0.051 0.949]\n",
            "[0.06 0.94]\n",
            "[0.074 0.926]\n",
            "[0.954 0.046]\n",
            "[0.953 0.047]\n",
            "[0.059 0.941]\n",
            "[0.63 0.37]\n",
            "[0.041 0.959]\n",
            "[0.043 0.957]\n",
            "[0.953 0.047]\n",
            "[0.045 0.955]\n",
            "[0.08 0.92]\n",
            "[0.953 0.047]\n",
            "[0.036 0.964]\n",
            "[0.057 0.943]\n",
            "[0.951 0.049]\n",
            "[0.049 0.951]\n",
            "[0.953 0.047]\n",
            "[0.953 0.047]\n",
            "[0.953 0.047]\n",
            "[0.952 0.048]\n",
            "[0.953 0.047]\n",
            "[0.953 0.047]\n",
            "[0.039 0.961]\n",
            "[0.953 0.047]\n",
            "[0.953 0.047]\n",
            "[0.953 0.047]\n",
            "[0.953 0.047]\n",
            "[0.037 0.963]\n",
            "[0.953 0.047]\n",
            "[0.042 0.958]\n",
            "[0.937 0.063]\n",
            "[0.953 0.047]\n",
            "[0.953 0.047]\n",
            "[0.052 0.948]\n",
            "[0.953 0.047]\n",
            "[0.953 0.047]\n",
            "[0.953 0.047]\n",
            "[0.08 0.92]\n",
            "[0.044 0.956]\n",
            "[0.068 0.932]\n",
            "[0.211 0.789]\n",
            "[0.05 0.95]\n",
            "[0.953 0.047]\n",
            "[0.034 0.966]\n",
            "[0.041 0.959]\n",
            "[0.953 0.047]\n",
            "[0.039 0.961]\n",
            "[0.953 0.047]\n",
            "[0.952 0.048]\n",
            "[0.04 0.96]\n",
            "[0.038 0.962]\n",
            "[0.05 0.95]\n",
            "[0.953 0.047]\n",
            "[0.062 0.938]\n",
            "[0.05 0.95]\n",
            "[0.054 0.946]\n",
            "[0.953 0.047]\n",
            "[0.038 0.962]\n",
            "[0.05 0.95]\n",
            "[0.068 0.932]\n",
            "[0.952 0.048]\n",
            "[0.047 0.953]\n",
            "[0.932 0.068]\n",
            "[0.953 0.047]\n",
            "[0.63 0.37]\n",
            "[0.953 0.047]\n",
            "[0.08 0.92]\n",
            "[0.953 0.047]\n",
            "[0.952 0.048]\n",
            "[0.953 0.047]\n",
            "[0.055 0.945]\n",
            "[0.037 0.963]\n",
            "[0.042 0.958]\n",
            "[0.057 0.943]\n",
            "[0.052 0.948]\n",
            "[0.044 0.956]\n",
            "[0.952 0.048]\n",
            "[0.953 0.047]\n",
            "[0.055 0.945]\n",
            "[0.952 0.048]\n",
            "[0.068 0.932]\n",
            "[0.039 0.961]\n",
            "[0.05 0.95]\n",
            "[0.953 0.047]\n",
            "[0.038 0.962]\n",
            "[0.05 0.95]\n",
            "[0.034 0.966]\n",
            "[0.403 0.597]\n",
            "[0.036 0.964]\n",
            "[0.953 0.047]\n",
            "[0.048 0.952]\n",
            "[0.403 0.597]\n",
            "[0.034 0.966]\n",
            "[0.063 0.937]\n",
            "[0.953 0.047]\n",
            "[0.038 0.962]\n",
            "[0.08 0.92]\n",
            "[0.953 0.047]\n",
            "[0.953 0.047]\n",
            "[0.951 0.049]\n",
            "[0.038 0.962]\n",
            "[0.953 0.047]\n",
            "[0.953 0.047]\n",
            "[0.05 0.95]\n",
            "[0.954 0.046]\n",
            "[0.055 0.945]\n",
            "[0.049 0.951]\n",
            "[0.058 0.942]\n",
            "[0.038 0.962]\n",
            "[0.036 0.964]\n",
            "[0.08 0.92]\n",
            "[0.953 0.047]\n",
            "[0.953 0.047]\n",
            "[0.211 0.789]\n",
            "[0.038 0.962]\n"
          ],
          "name": "stdout"
        }
      ]
    },
    {
      "cell_type": "code",
      "metadata": {
        "colab": {
          "base_uri": "https://localhost:8080/"
        },
        "id": "-OBsSc0bYcpN",
        "outputId": "1e96e667-6b1e-436d-a111-63a2eb1e2890"
      },
      "source": [
        "predictions.shape"
      ],
      "execution_count": 44,
      "outputs": [
        {
          "output_type": "execute_result",
          "data": {
            "text/plain": [
              "(420, 2)"
            ]
          },
          "metadata": {
            "tags": []
          },
          "execution_count": 44
        }
      ]
    },
    {
      "cell_type": "code",
      "metadata": {
        "id": "gFa6F0kyXhEc"
      },
      "source": [
        "prediction=np.argmax(predictions,axis=1)"
      ],
      "execution_count": 47,
      "outputs": []
    },
    {
      "cell_type": "code",
      "metadata": {
        "colab": {
          "base_uri": "https://localhost:8080/"
        },
        "id": "iBFOI7EKXu3w",
        "outputId": "706be501-573c-4fb9-d587-1d0222615bd1"
      },
      "source": [
        "for i in prediction:\n",
        "  print(i)"
      ],
      "execution_count": 48,
      "outputs": [
        {
          "output_type": "stream",
          "text": [
            "0\n",
            "0\n",
            "0\n",
            "1\n",
            "0\n",
            "0\n",
            "1\n",
            "1\n",
            "1\n",
            "1\n",
            "1\n",
            "1\n",
            "0\n",
            "0\n",
            "0\n",
            "0\n",
            "1\n",
            "1\n",
            "1\n",
            "1\n",
            "0\n",
            "1\n",
            "0\n",
            "1\n",
            "1\n",
            "0\n",
            "0\n",
            "0\n",
            "1\n",
            "0\n",
            "0\n",
            "0\n",
            "0\n",
            "1\n",
            "0\n",
            "0\n",
            "1\n",
            "1\n",
            "1\n",
            "0\n",
            "1\n",
            "1\n",
            "1\n",
            "0\n",
            "1\n",
            "1\n",
            "0\n",
            "1\n",
            "0\n",
            "0\n",
            "0\n",
            "0\n",
            "1\n",
            "0\n",
            "0\n",
            "1\n",
            "1\n",
            "0\n",
            "0\n",
            "1\n",
            "1\n",
            "0\n",
            "1\n",
            "0\n",
            "0\n",
            "0\n",
            "1\n",
            "1\n",
            "1\n",
            "0\n",
            "1\n",
            "0\n",
            "0\n",
            "0\n",
            "1\n",
            "1\n",
            "1\n",
            "1\n",
            "1\n",
            "1\n",
            "1\n",
            "0\n",
            "0\n",
            "1\n",
            "1\n",
            "1\n",
            "1\n",
            "0\n",
            "0\n",
            "1\n",
            "0\n",
            "1\n",
            "1\n",
            "0\n",
            "0\n",
            "1\n",
            "1\n",
            "1\n",
            "1\n",
            "0\n",
            "1\n",
            "1\n",
            "1\n",
            "0\n",
            "1\n",
            "1\n",
            "0\n",
            "0\n",
            "0\n",
            "0\n",
            "1\n",
            "0\n",
            "0\n",
            "0\n",
            "1\n",
            "0\n",
            "0\n",
            "0\n",
            "1\n",
            "0\n",
            "1\n",
            "0\n",
            "0\n",
            "1\n",
            "0\n",
            "1\n",
            "0\n",
            "1\n",
            "1\n",
            "0\n",
            "0\n",
            "0\n",
            "0\n",
            "0\n",
            "1\n",
            "0\n",
            "0\n",
            "0\n",
            "0\n",
            "0\n",
            "0\n",
            "0\n",
            "1\n",
            "0\n",
            "1\n",
            "0\n",
            "0\n",
            "1\n",
            "1\n",
            "1\n",
            "0\n",
            "0\n",
            "0\n",
            "0\n",
            "1\n",
            "0\n",
            "1\n",
            "1\n",
            "1\n",
            "0\n",
            "0\n",
            "1\n",
            "1\n",
            "1\n",
            "0\n",
            "1\n",
            "0\n",
            "1\n",
            "1\n",
            "0\n",
            "0\n",
            "0\n",
            "1\n",
            "1\n",
            "0\n",
            "0\n",
            "0\n",
            "1\n",
            "0\n",
            "1\n",
            "1\n",
            "0\n",
            "1\n",
            "0\n",
            "1\n",
            "0\n",
            "0\n",
            "1\n",
            "0\n",
            "0\n",
            "1\n",
            "0\n",
            "0\n",
            "0\n",
            "1\n",
            "0\n",
            "0\n",
            "1\n",
            "1\n",
            "0\n",
            "1\n",
            "0\n",
            "1\n",
            "0\n",
            "0\n",
            "1\n",
            "1\n",
            "0\n",
            "0\n",
            "0\n",
            "1\n",
            "0\n",
            "0\n",
            "0\n",
            "1\n",
            "1\n",
            "1\n",
            "0\n",
            "1\n",
            "0\n",
            "0\n",
            "1\n",
            "0\n",
            "1\n",
            "1\n",
            "0\n",
            "1\n",
            "0\n",
            "1\n",
            "1\n",
            "1\n",
            "0\n",
            "0\n",
            "0\n",
            "1\n",
            "0\n",
            "1\n",
            "0\n",
            "0\n",
            "0\n",
            "0\n",
            "0\n",
            "0\n",
            "0\n",
            "1\n",
            "0\n",
            "0\n",
            "1\n",
            "1\n",
            "1\n",
            "1\n",
            "0\n",
            "0\n",
            "0\n",
            "1\n",
            "1\n",
            "1\n",
            "1\n",
            "0\n",
            "1\n",
            "0\n",
            "0\n",
            "1\n",
            "1\n",
            "0\n",
            "0\n",
            "0\n",
            "1\n",
            "1\n",
            "1\n",
            "0\n",
            "1\n",
            "1\n",
            "0\n",
            "1\n",
            "1\n",
            "0\n",
            "0\n",
            "0\n",
            "0\n",
            "0\n",
            "0\n",
            "1\n",
            "1\n",
            "0\n",
            "1\n",
            "1\n",
            "1\n",
            "0\n",
            "0\n",
            "1\n",
            "0\n",
            "1\n",
            "0\n",
            "1\n",
            "1\n",
            "0\n",
            "1\n",
            "1\n",
            "0\n",
            "1\n",
            "0\n",
            "1\n",
            "1\n",
            "1\n",
            "1\n",
            "1\n",
            "0\n",
            "0\n",
            "1\n",
            "0\n",
            "1\n",
            "1\n",
            "0\n",
            "1\n",
            "1\n",
            "0\n",
            "1\n",
            "1\n",
            "0\n",
            "1\n",
            "0\n",
            "0\n",
            "0\n",
            "0\n",
            "0\n",
            "0\n",
            "1\n",
            "0\n",
            "0\n",
            "0\n",
            "0\n",
            "1\n",
            "0\n",
            "1\n",
            "0\n",
            "0\n",
            "0\n",
            "1\n",
            "0\n",
            "0\n",
            "0\n",
            "1\n",
            "1\n",
            "1\n",
            "1\n",
            "1\n",
            "0\n",
            "1\n",
            "1\n",
            "0\n",
            "1\n",
            "0\n",
            "0\n",
            "1\n",
            "1\n",
            "1\n",
            "0\n",
            "1\n",
            "1\n",
            "1\n",
            "0\n",
            "1\n",
            "1\n",
            "1\n",
            "0\n",
            "1\n",
            "0\n",
            "0\n",
            "0\n",
            "0\n",
            "1\n",
            "0\n",
            "0\n",
            "0\n",
            "1\n",
            "1\n",
            "1\n",
            "1\n",
            "1\n",
            "1\n",
            "0\n",
            "0\n",
            "1\n",
            "0\n",
            "1\n",
            "1\n",
            "1\n",
            "0\n",
            "1\n",
            "1\n",
            "1\n",
            "1\n",
            "1\n",
            "0\n",
            "1\n",
            "1\n",
            "1\n",
            "1\n",
            "0\n",
            "1\n",
            "1\n",
            "0\n",
            "0\n",
            "0\n",
            "1\n",
            "0\n",
            "0\n",
            "1\n",
            "0\n",
            "1\n",
            "1\n",
            "1\n",
            "1\n",
            "1\n",
            "1\n",
            "0\n",
            "0\n",
            "1\n",
            "1\n"
          ],
          "name": "stdout"
        }
      ]
    },
    {
      "cell_type": "markdown",
      "metadata": {
        "id": "acIQjEJjdisM"
      },
      "source": [
        "#CONFUSION MATRIX"
      ]
    },
    {
      "cell_type": "code",
      "metadata": {
        "id": "SAsVhpNYd3AO"
      },
      "source": [
        "import matplotlib.pyplot as plt\n",
        "from sklearn.metrics import confusion_matrix\n",
        "import itertools\n",
        "%matplotlib inline"
      ],
      "execution_count": 49,
      "outputs": []
    },
    {
      "cell_type": "code",
      "metadata": {
        "colab": {
          "base_uri": "https://localhost:8080/",
          "height": 298
        },
        "id": "EufRtr3kdlom",
        "outputId": "c9752503-6ea1-4479-e8e3-a5c3c4968eed"
      },
      "source": [
        "cm=confusion_matrix(y_true=test_labels,y_pred=prediction)\n",
        "plt.imshow(cm,interpolation='nearest',cmap='Greens')\n",
        "plt.title('Confusion Matrix')\n",
        "plt.xlabel(\"Actual Value\",fontsize='13')\t#adds a label in the x axis\n",
        "plt.ylabel(\"Predicted Value\",fontsize='13')\n",
        "\n",
        "thresh=cm.max()/2\n",
        "for i,j in itertools.product(range(cm.shape[0]),range(cm.shape[1])):\n",
        "  plt.text(i,j,cm[i,j],horizontalalignment='center')\n",
        "\n",
        "plt.colorbar()\n",
        "plt.show()\n",
        "\n",
        "#200+200 correct predictions, 20 wrong predictions\n",
        "# accuracy=400/420=0.9523"
      ],
      "execution_count": 54,
      "outputs": [
        {
          "output_type": "display_data",
          "data": {
            "image/png": "[encoded data removed]",
            "text/plain": [
              "<Figure size 432x288 with 2 Axes>"
            ]
          },
          "metadata": {
            "tags": [],
            "needs_background": "light"
          }
        }
      ]
    },
    {
      "cell_type": "markdown",
      "metadata": {
        "id": "xryKuik2gXK5"
      },
      "source": [
        "# Evaluate"
      ]
    },
    {
      "cell_type": "code",
      "metadata": {
        "colab": {
          "base_uri": "https://localhost:8080/"
        },
        "id": "Jn02NVVQVrA9",
        "outputId": "97b84ff0-e326-4a13-c24d-56d6b7110469"
      },
      "source": [
        "test_loss,test_accuracy=model.evaluate(scaled_test_samples,test_labels)\n",
        "print(\"Accuracy is \"+ str(test_accuracy))"
      ],
      "execution_count": 25,
      "outputs": [
        {
          "output_type": "stream",
          "text": [
            "14/14 [==============================] - 0s 1ms/step - loss: 0.2054 - accuracy: 0.9524\n",
            "Accuracy is 0.9523809552192688\n"
          ],
          "name": "stdout"
        }
      ]
    },
    {
      "cell_type": "markdown",
      "metadata": {
        "id": "ohe047Lcg5dB"
      },
      "source": [
        "#SAVE AND LOAD MODEL"
      ]
    },
    {
      "cell_type": "markdown",
      "metadata": {
        "id": "aEHj6DFeiZB3"
      },
      "source": [
        "This save function save:\n",
        "\n",
        "\n",
        "*   architecture of model allowing to re-create the model\n",
        "*   the weights of the model\n",
        "*   training configuration(loss,optimizer)\n",
        "*   the state of optimizer,allowing to resume training exactly where you left off\n",
        "\n"
      ]
    },
    {
      "cell_type": "code",
      "metadata": {
        "colab": {
          "base_uri": "https://localhost:8080/"
        },
        "id": "5RAexg38g-Pk",
        "outputId": "4f6a810e-a0d6-498e-d830-0facf7aaa017"
      },
      "source": [
        "#mount google drive\n",
        "from google.colab import drive\n",
        "drive.mount('/content/gdrive')"
      ],
      "execution_count": 56,
      "outputs": [
        {
          "output_type": "stream",
          "text": [
            "Mounted at /content/gdrive\n"
          ],
          "name": "stdout"
        }
      ]
    },
    {
      "cell_type": "code",
      "metadata": {
        "id": "IEeeKZxRhZ6i"
      },
      "source": [
        "#save with extension h5\n",
        "#add file to google drive by drag and drop\n",
        "model.save('medical_trial_data.h5')"
      ],
      "execution_count": 57,
      "outputs": []
    },
    {
      "cell_type": "code",
      "metadata": {
        "id": "JnAWBgvJh_IY"
      },
      "source": [
        "#LOAD\n",
        "\n",
        "from keras.models import load_model\n",
        "new_model=load_model('/content/gdrive/MyDrive/medical_trial_data.h5')"
      ],
      "execution_count": 59,
      "outputs": []
    },
    {
      "cell_type": "code",
      "metadata": {
        "colab": {
          "base_uri": "https://localhost:8080/"
        },
        "id": "3l_sLDvFiSTH",
        "outputId": "69c434a2-9223-41ca-8677-572209803c70"
      },
      "source": [
        "new_model.summary()"
      ],
      "execution_count": 60,
      "outputs": [
        {
          "output_type": "stream",
          "text": [
            "Model: \"sequential\"\n",
            "_________________________________________________________________\n",
            "Layer (type)                 Output Shape              Param #   \n",
            "=================================================================\n",
            "dense (Dense)                (None, 16)                32        \n",
            "_________________________________________________________________\n",
            "dense_1 (Dense)              (None, 32)                544       \n",
            "_________________________________________________________________\n",
            "dense_2 (Dense)              (None, 2)                 66        \n",
            "=================================================================\n",
            "Total params: 642\n",
            "Trainable params: 642\n",
            "Non-trainable params: 0\n",
            "_________________________________________________________________\n"
          ],
          "name": "stdout"
        }
      ]
    },
    {
      "cell_type": "code",
      "metadata": {
        "colab": {
          "base_uri": "https://localhost:8080/"
        },
        "id": "NfLXuivGkQzu",
        "outputId": "db85b914-7872-4ce2-b6dc-308c1e24c2cc"
      },
      "source": [
        "new_model.get_weights()"
      ],
      "execution_count": 61,
      "outputs": [
        {
          "output_type": "execute_result",
          "data": {
            "text/plain": [
              "[array([[ 0.365,  0.677,  0.747, -0.521,  0.672,  0.693, -0.215, -0.534,\n",
              "         -0.49 ,  0.73 ,  0.563,  0.272, -0.213, -0.46 ,  0.371, -0.594]],\n",
              "       dtype=float32),\n",
              " array([-0.205, -0.379, -0.366,  0.   , -0.377, -0.388,  0.   ,  0.   ,\n",
              "         0.   , -0.412,  0.1  ,  0.173,  0.   ,  0.   , -0.208,  0.   ],\n",
              "       dtype=float32),\n",
              " array([[ 4.287e-01,  2.753e-01, -3.364e-01,  9.445e-02,  8.691e-02,\n",
              "          1.590e-01,  4.718e-01, -7.934e-02, -1.129e+00,  2.089e-01,\n",
              "         -1.731e+00, -2.242e-01,  2.589e-01,  1.045e+00, -5.740e-01,\n",
              "          2.225e-01,  4.148e-01, -1.518e-01, -2.628e-02,  7.749e-02,\n",
              "          3.529e-01, -1.332e+00, -1.626e-01, -9.703e-02,  3.595e-01,\n",
              "         -6.160e-02, -1.767e+00, -1.196e+00, -1.651e+00, -5.201e-02,\n",
              "         -1.906e+00, -5.801e-02],\n",
              "        [ 5.081e-01,  4.633e-01, -3.524e-01, -3.818e-01,  2.025e-02,\n",
              "          9.548e-02,  4.251e-01, -1.284e-01, -1.112e+00,  4.460e-02,\n",
              "         -1.576e+00,  1.708e-01,  4.346e-01,  8.548e-01, -3.094e-01,\n",
              "          6.959e-02,  5.776e-02,  8.686e-02, -2.245e-01, -1.859e-01,\n",
              "          8.647e-02, -1.263e+00,  3.158e-02,  2.581e-01,  1.393e-01,\n",
              "         -2.381e-01, -1.282e+00, -1.159e+00, -1.047e+00,  1.791e-01,\n",
              "         -1.213e+00, -1.299e-02],\n",
              "        [ 3.261e-01,  8.149e-02, -2.054e-01,  2.221e-01, -3.893e-02,\n",
              "         -2.192e-01,  5.412e-01,  3.441e-03, -3.504e-01,  4.992e-01,\n",
              "         -5.538e-01, -2.250e-01,  2.598e-01, -2.955e-02,  1.226e-01,\n",
              "          3.090e-01,  1.761e-01, -3.327e-01,  4.914e-01, -2.515e-01,\n",
              "          5.671e-01,  1.015e-03,  2.136e-01, -3.584e-01,  4.173e-01,\n",
              "         -2.632e-01, -3.799e-01,  5.037e-03, -6.573e-01,  8.629e-02,\n",
              "         -6.728e-01, -2.015e-01],\n",
              "        [ 2.186e-01, -1.711e-01, -1.490e-01,  1.358e-02, -2.777e-02,\n",
              "          1.793e-01,  4.735e-02,  1.996e-01, -2.583e-01,  3.066e-01,\n",
              "         -2.938e-01, -1.288e-01, -1.278e-01,  3.465e-01,  1.634e-01,\n",
              "          2.682e-01, -4.679e-02,  2.359e-01, -3.509e-01,  5.687e-02,\n",
              "          3.349e-01,  5.621e-02, -2.944e-01, -3.354e-01, -3.418e-03,\n",
              "         -2.710e-01,  1.781e-02,  1.739e-02, -4.964e-02,  2.858e-01,\n",
              "          1.728e-01, -1.372e-01],\n",
              "        [ 3.291e-02, -1.294e-01,  1.677e-01,  2.312e-01,  2.900e-01,\n",
              "          2.897e-01,  3.298e-01, -2.797e-01, -1.208e+00,  3.595e-01,\n",
              "         -1.543e+00, -9.047e-02,  5.656e-01,  6.922e-01, -9.279e-01,\n",
              "          2.662e-01,  3.455e-01, -3.263e-01, -1.161e-01, -1.521e-01,\n",
              "          1.478e-03, -1.461e+00, -2.759e-01,  3.248e-01,  4.318e-01,\n",
              "          1.968e-01, -1.281e+00, -1.453e+00, -1.565e+00, -1.403e-01,\n",
              "         -1.327e+00,  9.446e-02],\n",
              "        [ 6.923e-02,  4.627e-01,  2.346e-01, -1.995e-01, -1.314e-01,\n",
              "         -3.491e-01,  3.267e-01, -3.456e-01, -9.619e-01,  1.352e-01,\n",
              "         -1.305e+00,  3.034e-01,  4.940e-01,  9.041e-01, -6.756e-01,\n",
              "         -3.475e-01,  2.437e-01, -1.058e-02,  4.819e-01, -3.285e-01,\n",
              "          1.080e-01, -1.569e+00, -2.086e-01, -2.499e-01, -4.012e-02,\n",
              "         -3.228e-02, -1.533e+00, -7.518e-01, -1.170e+00,  8.633e-02,\n",
              "         -1.324e+00,  2.930e-01],\n",
              "        [ 1.274e-02,  9.667e-02,  3.100e-01,  7.321e-02, -7.527e-02,\n",
              "         -8.313e-02, -2.368e-01, -2.773e-01,  1.148e-01, -2.234e-01,\n",
              "          4.167e-02,  1.229e-03, -1.887e-01,  2.880e-01, -1.298e-01,\n",
              "          2.448e-01,  2.792e-01,  3.324e-01,  1.796e-01,  1.835e-02,\n",
              "         -2.072e-02, -1.077e-01,  2.750e-01, -2.927e-01, -2.081e-01,\n",
              "         -3.163e-02, -9.104e-02,  2.948e-01,  8.723e-02, -1.513e-01,\n",
              "          3.488e-01,  3.500e-01],\n",
              "        [-2.649e-01, -6.038e-04, -1.654e-02,  1.042e-01,  1.278e-02,\n",
              "         -1.482e-01, -1.460e-01, -1.841e-01,  1.042e-01, -3.033e-01,\n",
              "         -6.746e-02,  2.942e-01,  2.017e-02,  1.974e-01,  1.920e-01,\n",
              "          1.336e-01, -3.451e-01, -2.569e-01, -2.049e-01, -3.116e-02,\n",
              "          1.997e-01,  1.269e-01, -1.372e-01, -1.130e-01,  2.306e-01,\n",
              "          5.679e-02, -1.749e-01,  1.702e-01,  4.855e-02, -2.086e-02,\n",
              "          3.177e-01, -3.412e-01],\n",
              "        [ 1.857e-02,  1.525e-01, -3.310e-01, -2.291e-01,  8.724e-02,\n",
              "          2.330e-01, -3.011e-02,  2.314e-01,  1.849e-01, -2.797e-01,\n",
              "         -3.308e-01,  1.827e-01, -1.989e-01, -2.279e-01,  2.513e-01,\n",
              "          9.171e-02,  3.272e-01,  3.568e-02,  2.329e-02,  5.395e-02,\n",
              "          1.439e-01,  1.335e-01,  2.939e-01,  2.219e-01,  1.841e-01,\n",
              "         -8.317e-02, -1.053e-01, -1.517e-01, -3.134e-02,  1.937e-01,\n",
              "          2.106e-01, -2.408e-01],\n",
              "        [ 4.109e-01,  4.792e-01, -1.206e-01,  2.649e-01,  1.366e-01,\n",
              "          3.051e-01,  1.244e-01, -2.860e-01, -1.209e+00,  1.784e-01,\n",
              "         -1.155e+00, -1.641e-01,  3.993e-01,  7.228e-01, -3.163e-01,\n",
              "         -2.446e-01,  3.399e-02,  2.460e-01,  2.729e-01,  3.195e-01,\n",
              "          1.325e-01, -1.089e+00,  5.823e-03, -2.788e-01,  3.296e-02,\n",
              "         -3.504e-01, -1.394e+00, -8.877e-01, -7.534e-01, -2.702e-01,\n",
              "         -1.202e+00,  9.348e-02],\n",
              "        [ 5.932e-01,  6.009e-01,  1.498e-02, -5.160e-02, -2.603e-01,\n",
              "         -3.624e-01,  4.988e-01, -1.294e-01,  2.116e-01,  1.137e-01,\n",
              "          1.963e-01,  2.278e-01,  5.669e-01,  8.902e-02,  1.301e-01,\n",
              "         -2.237e-01,  3.835e-03, -2.858e-01,  1.657e-01, -1.111e-01,\n",
              "          4.504e-01,  2.484e-01, -3.107e-01,  2.917e-02,  4.439e-01,\n",
              "          2.689e-01, -5.595e-02,  1.785e-02, -1.461e-01, -2.553e-01,\n",
              "          5.703e-02, -2.152e-03],\n",
              "        [ 4.063e-01,  5.176e-01, -3.428e-01, -3.553e-01, -2.643e-01,\n",
              "          4.228e-02,  2.677e-02, -1.713e-01, -5.383e-02,  4.914e-01,\n",
              "          3.377e-01, -2.707e-01,  2.836e-01, -8.014e-02, -1.054e-01,\n",
              "         -2.165e-01,  5.386e-01,  1.814e-01,  2.554e-01, -6.720e-03,\n",
              "         -1.322e-01, -2.588e-01, -3.405e-03, -5.651e-02,  1.979e-01,\n",
              "         -2.662e-01,  4.347e-01,  6.822e-02,  4.133e-01,  2.166e-01,\n",
              "          2.528e-01, -2.730e-01],\n",
              "        [-2.676e-01,  2.911e-01,  1.491e-01, -1.371e-01, -3.438e-01,\n",
              "          3.359e-02, -1.848e-01, -2.945e-01,  1.338e-01,  1.449e-01,\n",
              "         -3.605e-02,  5.755e-02, -5.524e-02, -6.015e-02, -1.496e-01,\n",
              "         -3.383e-01,  9.386e-02,  3.452e-01,  3.518e-02,  5.260e-02,\n",
              "         -2.221e-01, -2.909e-05,  2.491e-01,  2.534e-01, -2.798e-01,\n",
              "          3.350e-01,  3.190e-01,  2.177e-01, -9.452e-02, -1.051e-01,\n",
              "         -2.340e-02, -2.598e-01],\n",
              "        [ 2.055e-01,  3.514e-01, -3.401e-02, -3.097e-01,  1.755e-01,\n",
              "         -2.029e-01, -6.356e-03,  9.547e-02,  8.853e-02, -1.779e-01,\n",
              "          6.494e-02,  9.862e-02,  2.266e-01,  2.530e-01,  3.009e-01,\n",
              "          1.812e-01,  1.545e-01, -1.405e-01, -2.136e-01,  1.313e-01,\n",
              "         -2.845e-01, -1.278e-01,  2.568e-01, -3.207e-01, -7.652e-02,\n",
              "         -1.428e-01,  2.938e-01,  1.032e-01,  3.409e-01,  1.768e-01,\n",
              "          2.500e-01,  1.731e-01],\n",
              "        [ 4.340e-01,  6.987e-02, -2.923e-01, -3.403e-01,  1.272e-02,\n",
              "          2.365e-01,  4.394e-01, -2.671e-01, -1.525e+00, -1.735e-02,\n",
              "         -1.907e+00,  2.024e-01,  1.373e-02,  8.476e-01, -8.536e-01,\n",
              "         -2.670e-03,  1.435e-01, -8.651e-02,  5.054e-02, -1.978e-02,\n",
              "          5.468e-01, -1.881e+00,  2.403e-01, -1.324e-01,  4.197e-01,\n",
              "         -1.569e-01, -1.565e+00, -1.182e+00, -1.481e+00, -1.119e-01,\n",
              "         -1.596e+00,  2.632e-01],\n",
              "        [ 2.434e-01, -2.285e-01,  1.514e-01,  2.577e-03, -1.367e-01,\n",
              "          3.047e-01,  5.544e-02,  2.749e-01,  3.361e-01, -3.401e-01,\n",
              "         -1.837e-01,  2.752e-01, -1.879e-01,  1.447e-01,  1.823e-01,\n",
              "          7.514e-02,  3.125e-01, -1.100e-01,  1.847e-01,  3.315e-01,\n",
              "         -2.288e-01,  1.648e-01,  6.501e-02, -2.287e-01,  3.123e-01,\n",
              "         -1.988e-01, -1.493e-01, -1.117e-01, -2.351e-01,  3.093e-01,\n",
              "          4.409e-02,  8.236e-02]], dtype=float32),\n",
              " array([-0.101,  0.072,  0.   , -0.017, -0.03 , -0.01 , -0.147,  0.   ,\n",
              "         0.207,  0.026,  0.178, -0.02 , -0.078, -0.316,  0.089, -0.006,\n",
              "         0.198, -0.03 ,  0.056,  0.   , -0.094,  0.269,  0.   , -0.034,\n",
              "        -0.023, -0.023,  0.222,  0.192,  0.255, -0.023,  0.254, -0.041],\n",
              "       dtype=float32),\n",
              " array([[-0.542, -0.055],\n",
              "        [-0.564,  0.229],\n",
              "        [ 0.036, -0.19 ],\n",
              "        [ 0.255,  0.015],\n",
              "        [-0.204, -0.389],\n",
              "        [ 0.167, -0.125],\n",
              "        [-0.226,  0.225],\n",
              "        [-0.224,  0.096],\n",
              "        [ 1.084, -1.377],\n",
              "        [-0.511,  0.215],\n",
              "        [ 1.399, -0.842],\n",
              "        [ 0.304, -0.323],\n",
              "        [-0.212,  0.135],\n",
              "        [ 1.031, -0.917],\n",
              "        [ 0.672, -0.723],\n",
              "        [ 0.225,  0.378],\n",
              "        [ 0.123,  0.592],\n",
              "        [-0.114,  0.12 ],\n",
              "        [-0.41 ,  0.67 ],\n",
              "        [ 0.269, -0.378],\n",
              "        [-0.255,  0.457],\n",
              "        [ 1.191, -1.029],\n",
              "        [-0.159, -0.099],\n",
              "        [ 0.136,  0.365],\n",
              "        [-0.162,  0.602],\n",
              "        [ 0.14 ,  0.345],\n",
              "        [ 0.694, -1.394],\n",
              "        [ 1.067, -0.684],\n",
              "        [ 1.273, -0.629],\n",
              "        [-0.234, -0.032],\n",
              "        [ 1.372, -0.62 ],\n",
              "        [ 0.318, -0.316]], dtype=float32),\n",
              " array([-0.175,  0.175], dtype=float32)]"
            ]
          },
          "metadata": {
            "tags": []
          },
          "execution_count": 61
        }
      ]
    },
    {
      "cell_type": "markdown",
      "metadata": {
        "id": "d6NAnZfwkeAg"
      },
      "source": [
        "#MODEL TO JSON\n",
        "\n",
        "if u want to save only architecture of model and not it's weights or its training configuration, you can use following function to save the architecture only.\n",
        "\n",
        "So compiling and training has to be done again\n",
        "\n"
      ]
    },
    {
      "cell_type": "code",
      "metadata": {
        "id": "1DrwCBYMkdXr"
      },
      "source": [
        "json_string=model.to_json()"
      ],
      "execution_count": 62,
      "outputs": []
    },
    {
      "cell_type": "code",
      "metadata": {
        "colab": {
          "base_uri": "https://localhost:8080/",
          "height": 171
        },
        "id": "A_An7oRQk-iz",
        "outputId": "a23bd270-43d2-4a0e-8dc4-4f3e8b769416"
      },
      "source": [
        "json_string"
      ],
      "execution_count": 63,
      "outputs": [
        {
          "output_type": "execute_result",
          "data": {
            "application/vnd.google.colaboratory.intrinsic+json": {
              "type": "string"
            },
            "text/plain": [
              "'{\"class_name\": \"Sequential\", \"config\": {\"name\": \"sequential\", \"layers\": [{\"class_name\": \"InputLayer\", \"config\": {\"batch_input_shape\": [null, 1], \"dtype\": \"float32\", \"sparse\": false, \"ragged\": false, \"name\": \"dense_input\"}}, {\"class_name\": \"Dense\", \"config\": {\"name\": \"dense\", \"trainable\": true, \"batch_input_shape\": [null, 1], \"dtype\": \"float32\", \"units\": 16, \"activation\": \"relu\", \"use_bias\": true, \"kernel_initializer\": {\"class_name\": \"GlorotUniform\", \"config\": {\"seed\": null}}, \"bias_initializer\": {\"class_name\": \"Zeros\", \"config\": {}}, \"kernel_regularizer\": null, \"bias_regularizer\": null, \"activity_regularizer\": null, \"kernel_constraint\": null, \"bias_constraint\": null}}, {\"class_name\": \"Dense\", \"config\": {\"name\": \"dense_1\", \"trainable\": true, \"dtype\": \"float32\", \"units\": 32, \"activation\": \"relu\", \"use_bias\": true, \"kernel_initializer\": {\"class_name\": \"GlorotUniform\", \"config\": {\"seed\": null}}, \"bias_initializer\": {\"class_name\": \"Zeros\", \"config\": {}}, \"kernel_regularizer\": null, \"bias_regularizer\": null, \"activity_regularizer\": null, \"kernel_constraint\": null, \"bias_constraint\": null}}, {\"class_name\": \"Dense\", \"config\": {\"name\": \"dense_2\", \"trainable\": true, \"dtype\": \"float32\", \"units\": 2, \"activation\": \"softmax\", \"use_bias\": true, \"kernel_initializer\": {\"class_name\": \"GlorotUniform\", \"config\": {\"seed\": null}}, \"bias_initializer\": {\"class_name\": \"Zeros\", \"config\": {}}, \"kernel_regularizer\": null, \"bias_regularizer\": null, \"activity_regularizer\": null, \"kernel_constraint\": null, \"bias_constraint\": null}}]}, \"keras_version\": \"2.5.0\", \"backend\": \"tensorflow\"}'"
            ]
          },
          "metadata": {
            "tags": []
          },
          "execution_count": 63
        }
      ]
    },
    {
      "cell_type": "code",
      "metadata": {
        "id": "8lSTBav8lBJJ"
      },
      "source": [
        "#model reconstruction from json\n",
        "from keras.models import model_from_json\n",
        "model_architecture=model_from_json(json_string)"
      ],
      "execution_count": 65,
      "outputs": []
    },
    {
      "cell_type": "code",
      "metadata": {
        "colab": {
          "base_uri": "https://localhost:8080/"
        },
        "id": "RHvwBQJZlc0k",
        "outputId": "ed92bcaf-566c-4fda-d07f-889ec5aca803"
      },
      "source": [
        "model_architecture.summary()"
      ],
      "execution_count": 66,
      "outputs": [
        {
          "output_type": "stream",
          "text": [
            "Model: \"sequential\"\n",
            "_________________________________________________________________\n",
            "Layer (type)                 Output Shape              Param #   \n",
            "=================================================================\n",
            "dense (Dense)                (None, 16)                32        \n",
            "_________________________________________________________________\n",
            "dense_1 (Dense)              (None, 32)                544       \n",
            "_________________________________________________________________\n",
            "dense_2 (Dense)              (None, 2)                 66        \n",
            "=================================================================\n",
            "Total params: 642\n",
            "Trainable params: 642\n",
            "Non-trainable params: 0\n",
            "_________________________________________________________________\n"
          ],
          "name": "stdout"
        }
      ]
    },
    {
      "cell_type": "code",
      "metadata": {
        "id": "8poNkSbnlgr5"
      },
      "source": [
        ""
      ],
      "execution_count": null,
      "outputs": []
    }
  ]
}